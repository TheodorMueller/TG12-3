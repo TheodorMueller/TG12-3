{
 "cells": [
  {
   "cell_type": "markdown",
   "id": "899fad27",
   "metadata": {},
   "source": [
    "# Objektorientierter Entwurf\n",
    "\n",
    "## Überblick\n",
    "Die Entwicklung von Softwaresystemen erfolgt in der Regel in drei Phasen: Analyse, Entwurf und Implementierung.\n",
    "\n",
    "Das Ziel der **Analyse** ist es, die Wünsche und Anforderungen eines Auftraggebers an ein neues Softwaresystem zu ermitteln und zu beschreiben. Aufgabe des **Entwurfs** ist es, die spezifizierte Anwendung auf einer konkreten Plattform unter den geforderten technischen Rahmenbedingungen zu realisieren. Unter **Implementierung** ist die Umsetzung des Entwurfs in einer Program-\n",
    "miersprache zu verstehen.\n",
    "\n",
    "## Objektorientierung\n",
    "Objektorientierung: Geht von realen Objekten aus, die durch Modellbildung abstrahiert und als Objekte im Programm umgesetzt werden.\n",
    "\n",
    "![Objekt](bilder/01objekt.png)\n",
    "\n",
    "-\t**Klasse**: Beschreibt, welche Eigenschaften Objekte vom selben Typ gemeinsam haben.\n",
    "\n",
    "![Objekte](bilder/01objekte.png)\n",
    "\n",
    "In objektorientierten Programmiersprachen lassen sich Klassen und Objekte analog zur Modellierung umsetzen.\n"
   ]
  },
  {
   "cell_type": "code",
   "execution_count": 1,
   "id": "1f52f8b6",
   "metadata": {},
   "outputs": [],
   "source": [
    "# Definition der Klasse Person\n",
    "class Person:\n",
    "    def __init__(self, name):\n",
    "        self.name = name\n",
    "\n",
    "# erzeuge zwei Objekte\n",
    "p1 = Person(\"Michael\")\n",
    "\n",
    "d1 = Person(\"Daniel\")\n",
    "d2 = Person(\"Daniel\")"
   ]
  },
  {
   "cell_type": "markdown",
   "id": "7340e838",
   "metadata": {},
   "source": [
    "\n",
    "## Notation\n",
    "Seit den 1990er-Jahren gewinnen objektorientierte Analyse- und Entwurfsmethoden an Bedeutung. Analyse, Entwurf und Implementierung werden durchgängig objektorientiert durchgeführt, wobei Analyse und Entwurf zusätzlich die gleiche grafische Notation (UML) nutzen.\n",
    "\n",
    "## Objekt\n",
    "In der objektorientierten Softwareentwicklung besitzt ein Objekt (object) einen bestimmten Zustand und reagiert mit einem definierten Verhalten auf seine Umgebung. Außerdem besitzt jedes Objekt eine eindeutige Identität, die es von allen anderen Objekten unterscheidet. Ein Objekt kann zu einem oder mehreren anderen Objekten Beziehungen haben.\n",
    "\n",
    "![Notation](bilder/01notation.png)\n",
    "\n",
    "### Zustand eines Objektes\n",
    "Der *Zustand* (state) eines Objekts umfasst die Attribute bzw. deren aktuelle Werte und die jeweiligen Objektbeziehungen zu anderen Objekten.\n",
    "\n",
    "### Verhalten eines Objektes\n",
    "Das *Verhalten* (behavior) eines Objekts wird durch eine Menge von Operationen beschrieben. Änderungen oder Abfragen des Zustands eine Objekts sind in der Regel nur mittels der Operationen möglich.\n",
    "\n",
    "### Notation eines Objektes\n",
    "Ein Objekt wird in der UML als Rechteck dargestellt. Die Bezeichnung eines Objekts wird immer unterstrichen. Objektnamen beginnen in der UML mit einem Kleinbuchstaben, Klassennamen mit einem Großbuchstaben. Anonyme Objekte werden verwendet, wenn es sich um irgendein Objekt der Klasse handelt. Objektnamen dienen dazu, ein bestimmtes Objekt der Klasse für die Systemanalyse zu benennen.\n",
    "\n",
    "#### Bezeichnung\n",
    "Die Bezeichnung eines Objekts wird immer unterstrichen. Objektnamen beginnen in der UML mit einem Kleinbuchstaben, Klassennamen mit einem Großbuchstaben.\n",
    "\n",
    "\n",
    "|  Notation   | Erklärung |\n",
    "| --- | --- |\n",
    "|  <u>objekt:Klasse</u>   |  das Objekt wird über den Namen angesprochen   |\n",
    "|  <u>objekt</u>   | der Objektname reicht aus    |\n",
    "|  <u>:Klasse</u>   | ein anonymes Objekt, es reicht der Klassenname    |\n",
    "\n",
    "\n",
    "#### Zustand\n",
    "Unterhalb des Namens – mit einen waagerechten Strich getrennt – können optional die im jeweiligen Kontext relevanten Attribute des Objekts angegeben werden. Attributnamen beginnen mit einem Kleinbuchstaben.\n",
    "\n",
    "|  Notation   | Erklärung |\n",
    "| --- | --- |\n",
    "|  name = Wert   |  Angabe von Attributname und Wert des Attributs   |\n",
    "|  name   | sinnvoll, wenn der Wert des Attributs nicht von Interesse ist    |\n",
    "\n",
    "\n",
    "\n",
    "#### Beziehung von Objekten\n",
    "Objekte und ihre Beziehungen (links) werden im Objektdiagramm (object diagram) spezifiziert. Es beschreibt Objekte, Attributwerte und Objektbeziehungen zwischen den Objekten zu einem bestimmen Zeitpunkt Objektdiagramme sind Momentaufnahmen bzw. Schnappschüsse des Systems.\n",
    "\n",
    "![Beziehungen](bilder/01notationAssoziation.png)\n",
    "\n",
    "#### Identität vs. Gleichheit\n",
    "Die Identität eines Objekts kann sich nicht ändern. Keine zwei Objekte können dieselbe Identität besitzen.\n",
    "\n",
    "\n",
    "Besitzen zwei Objekte - mit unterschiedlichen Identitäten - dieselben Attributwerte, so spricht man von Gleichheit der Objekte.\n",
    "\n",
    "![Beziehungen](bilder/01identität.png)\n"
   ]
  },
  {
   "cell_type": "code",
   "execution_count": 2,
   "id": "48627058",
   "metadata": {},
   "outputs": [
    {
     "name": "stdout",
     "output_type": "stream",
     "text": [
      "<__main__.Person object at 0x7d25d818b3b0>\n",
      "<__main__.Person object at 0x7d25d81cb170>\n"
     ]
    }
   ],
   "source": [
    "# zeige die Identitäten der Objekte an\n",
    "print(d1)\n",
    "print(d2)\n"
   ]
  },
  {
   "cell_type": "markdown",
   "id": "d2e90351",
   "metadata": {},
   "source": [
    "\n",
    "## Geheimnisprinzip\n",
    "Sind Attribute des Objekts außerhalb der Klasse nur über die Operationen des Objekts sichtbar (Getter) und änderbar(Setter), so spricht man vom Geheimnisprinzip. Konsistente Attributwerte können damit durch die Objektoperationen sichergestellt werden.\n",
    "\n",
    "![Geheihmnisprinzip](bilder/01geheimnisprinzip.png)"
   ]
  },
  {
   "cell_type": "markdown",
   "id": "097f3559",
   "metadata": {},
   "source": [
    "# Aufgaben\n",
    "\n",
    "## Aufgabe 1 (Wichtige Begriffe erläutern können)\n",
    "\n",
    "- Erläutern Sie den Begriﬀ Objektidentität.\n",
    "- Was ist der Unterschied zwischen einer Objektidentität und einem Objektnamen?\n",
    "- Was ist der Unterschied zwischen einer Klasse und einer Menge von Objekten dieser Klasse?\n",
    "- Geben Sie ein Beispiel, wo das Geheimnisprinzip eingesetzt werden sollte.\n",
    "- Erläutern Sie den Begriﬀ konsistente Attributwerte.\n",
    "\n",
    "## Lösung Aufgabe 1:\n",
    "\n",
    "- Die Objektidentität beschreibt die Identität eines Objektes. Sie kann nicht doppelt vorkommen. Jedes Objekt hat seine eigene Identität. Die Identität kann nicht geändert werden.\n",
    "- Der Name eines Objektes kann geändert werden, jedoch nicht seine Identität.\n",
    "- Die Objekte können Zustände und Beziehungen zu anderen Objekten besitzen. Klassen hingegen haben keine Zustände oder Beziehungen.\n",
    "- Datenbanken von sensieblen Daten.\n",
    "- Konsistente Attributwerte sind Attributwerte, die mit hilfe des Geheimprinzips sichergestellt werden. Sie lassen sich nur nur durch Methoden innerhalb der Klasse ändern. \n",
    "\n",
    "## Aufgabe 2: (Objektdiagramme erstellen können)\n",
    "Identifizieren Sie anhand der folgenden Beschreibungen Objekte und deren Objektbeziehungen und stellen sie dies als Objektdiagramm dar.\n",
    "\n",
    "In einer Bibliothek können Leser Bücher ausleihen. Für jeden Leser werden Name, Adresse und Geburtsdatum gespeichert. Außerdem erhält jeder Leser eine Nummer. Hans Müller, geb. am 1.3.1975 und wohnhaft in Radolfzell, leiht sich “Die Säulen der Erde” aus. Spätestens am 12.11.2012 muss er es zurückgeben. Diese Rückgabedatum wird ins Buch eingetragen. Else Wallersee aus Singen, geb. am 26.3.1975, leiht sich “Der Medicus” der “Der Pferdeflüsterer” aus. Beide Bücher muss sie am 14.12.2012 zurückgeben.\n",
    "\n",
    "- Ken Follet, Die Säulen der Erde, 1990,\n",
    "- Noah Gordon, Der Medicis, 1987, und\n",
    "- Nicholas Evans, Der Pferdeflüsterer, 1995"
   ]
  }
 ],
 "metadata": {
  "kernelspec": {
   "display_name": "Python 3",
   "language": "python",
   "name": "python3"
  },
  "language_info": {
   "codemirror_mode": {
    "name": "ipython",
    "version": 3
   },
   "file_extension": ".py",
   "mimetype": "text/x-python",
   "name": "python",
   "nbconvert_exporter": "python",
   "pygments_lexer": "ipython3",
   "version": "3.12.1"
  }
 },
 "nbformat": 4,
 "nbformat_minor": 5
}
