{
  "cells": [
    {
      "cell_type": "markdown",
      "metadata": {},
      "source": [
        "# Klassen und Objekte\n",
        "\n",
        "#### siehe\n",
        "* https://www.python-kurs.eu/python3_klassen.php\n",
        "* https://www.w3schools.com/python/python_classes.asp\n",
        "\n",
        "### Ein erstes Beispiel"
      ]
    },
    {
      "cell_type": "code",
      "execution_count": 1,
      "metadata": {},
      "outputs": [],
      "source": [
        "class Roboter:\n",
        "    def sayHello(self):\n",
        "        print(\"Hello i am a \" + self.typ)\n",
        "    def setTyp(self,typ):\n",
        "        self.typ = typ"
      ]
    },
    {
      "cell_type": "markdown",
      "metadata": {},
      "source": [
        "Python besitzt keinen expliziten Konstruktor (bzw. Destruktur) wie man dies von Java oder C++ kennt.   \n",
        "Der eigentliche Konstruktor wird implizit von Python gestartet.  \n",
        "Sobald einer Instanz-Variable mit `self.attributName = value` ein Wert zugewiesen wird, steht diese innerhalb der kompletten Klasse zur Verfügung.   \n",
        "Jede Funktion innerhalb einer Klasse benötigt als ersten Parameter eine Referenz auf sich selbst. Diese wird in Python mit dem Schlüsselwort `self` gekennzeichnet. \n",
        "Hierdurch wird der Zugriff auf alle Instanz-Variablen und Funktionen innerhalb der Klasse gewährleistet."
      ]
    },
    {
      "cell_type": "code",
      "execution_count": 2,
      "metadata": {},
      "outputs": [
        {
          "name": "stdout",
          "output_type": "stream",
          "text": [
            "Hello i am a mobil Robot\n"
          ]
        }
      ],
      "source": [
        "robby = Roboter()\n",
        "robby.setTyp(\"mobil Robot\")\n",
        "robby.sayHello()"
      ]
    },
    {
      "cell_type": "markdown",
      "metadata": {},
      "source": [
        "Python legt zur Laufzeit den Datentyp von Variablen und Objekten fest. Deshalb darf der Klassenname nicht vor den Objektnamen geschrieben werden.  \n",
        "Analog zu anderen Programmiersprachen erfolgt der Konstruktoraufruf über den Klassennamen (ohne new)."
      ]
    },
    {
      "cell_type": "markdown",
      "metadata": {},
      "source": [
        "## Eine Klasse mit \"Konstruktor\" und \"toString()\" - Methode"
      ]
    },
    {
      "cell_type": "code",
      "execution_count": 3,
      "metadata": {},
      "outputs": [],
      "source": [
        "import math\n",
        "class Kreis:\n",
        "    def __init__(self,radius):\n",
        "        self.radius = radius\n",
        "    def berechneFlaeche(self):\n",
        "        return math.pi * self.radius**2\n",
        "    def berechneUmfang(self):\n",
        "        return 2.0 * math.pi * self.radius\n",
        "    def __str__(self):\n",
        "        return self.__class__.__name__ + \" r= \" + str(self.radius) + \" a= \" + \\\n",
        "            str(self.berechneFlaeche()) + \" u= \" + str(self.berechneUmfang())"
      ]
    },
    {
      "cell_type": "markdown",
      "metadata": {},
      "source": [
        "`__init__()` gehört zu den sogenannten magischen Funktionen, die unmittelbar und automatisch nach dem Erzeugen einer Instanz aufgerufen wird. \n",
        "Hierüber können die Instanzvariablen angelegt und initialisiert werden. Der Name ist festgelegt und kann nicht frei gewählt werden. \n",
        "\n",
        "Bei Java z.B. sollten die Programmierer in jeder Klasse die `toString()`-Methode sinnvoll überschreiben. \n",
        "Diese liefert einen Stringdarstellung des Objektes zurück.\n",
        "Bei der Typconvertierung haben wir bereits die Funktion *str(numberValue)* kennen gelernt. Diese Funktion liefert passend zum Zahlenwert einen String. \n",
        "Soll nun ein beliebiges Objekt auch in Python bei Aufruf von *str(objektName)* einen String liefern, so muss die magische Funktion `__str__(self)` in der Klasse überschrieben werden."
      ]
    },
    {
      "cell_type": "code",
      "execution_count": 4,
      "metadata": {},
      "outputs": [
        {
          "name": "stdout",
          "output_type": "stream",
          "text": [
            "314.1592653589793\n",
            "Kreis r= 10.0 a= 314.1592653589793 u= 62.83185307179586\n",
            "Kreis r= 20.0 a= 1256.6370614359173 u= 125.66370614359172\n"
          ]
        }
      ],
      "source": [
        "k = Kreis(10.0);\n",
        "print(k.berechneFlaeche())\n",
        "print(str(k))\n",
        "\n",
        "k.radius = 20.0\n",
        "print(k)          # impliziter Aufruf von str(k)"
      ]
    },
    {
      "cell_type": "markdown",
      "metadata": {},
      "source": [
        "### Destruktor\n",
        "Für eine Klasse kann man auch die magische Methode `__del__` definieren.\n",
        "Sie wird aufgerufen bevor eine Instanz zerstört wird. Oft wird diese auch als Destruktor bezeichnet, obwohl es sich eigentlich nicht um den Dekonstruktor handelt. Destruktoren werden selten benutzt, da man sich normalerweise nicht um das Aufräumen im Speicher kümmern muss. Dieses Aufräumen erfolgt automatisch im Hintergrund, wenn keine weiteren Referenzen auf das Objekt existieren (und nicht wenn **del obj** aufgerufen wird)."
      ]
    },
    {
      "cell_type": "code",
      "execution_count": 5,
      "metadata": {},
      "outputs": [],
      "source": [
        "class Roboter():\n",
        "    def __init__(self,name):\n",
        "        self.name = name\n",
        "        print(name + \" wurde erschaffen\")\n",
        "    def getName(self):\n",
        "        return self.name\n",
        "    def __del__(self):\n",
        "        print(self.name + \" wurde zerstört\")"
      ]
    },
    {
      "cell_type": "code",
      "execution_count": 6,
      "metadata": {},
      "outputs": [
        {
          "name": "stdout",
          "output_type": "stream",
          "text": [
            "Robby wurde erschaffen\n",
            "Robby wurde zerstört\n"
          ]
        }
      ],
      "source": [
        "robby = Roboter(\"Robby\")\n",
        "del robby\n",
        "#robby.getName()"
      ]
    },
    {
      "cell_type": "code",
      "execution_count": 7,
      "metadata": {},
      "outputs": [
        {
          "name": "stdout",
          "output_type": "stream",
          "text": [
            "Robby wurde erschaffen\n"
          ]
        },
        {
          "data": {
            "text/plain": [
              "'Robby'"
            ]
          },
          "execution_count": 7,
          "metadata": {},
          "output_type": "execute_result"
        }
      ],
      "source": [
        "# Wird das Objekt wirklich zerstört, oder nur die Referenz auf das Objekt gelöscht\n",
        "robby1 = Roboter(\"Robby\")\n",
        "robby2 = robby1\n",
        "del robby1\n",
        "robby2.getName()"
      ]
    },
    {
      "cell_type": "markdown",
      "metadata": {},
      "source": [
        "## Kapselung bei Python\n",
        "Im Gegensatz zu anderen Programmiersprachen kennt Python keine Schlüsselwörter wie private und public.  \n",
        "Ein Attribut wird in Python zu einem privaten Attribut, wenn der Attributname mit **zwei Unterstrichen __** beginnt und nicht mit Unterstrichen endet.  \n",
        "Alle Attribute und Methoden, die nicht mit einem doppelten Unterstrich beginnen sind infolgedesse öffentlich.\n",
        "\n",
        "Dies soll am Beispiel einer Ampel verdeutlicht werden"
      ]
    },
    {
      "cell_type": "code",
      "execution_count": 8,
      "metadata": {},
      "outputs": [],
      "source": [
        "class Ampel(object):\n",
        "    def __init__(self):\n",
        "        self.__zustand = 'rot'\n",
        "\n",
        "    def schalten(self):\n",
        "        if self.__zustand == 'rot':\n",
        "            self.__zustand = 'rotgelb'\n",
        "        elif self.__zustand == 'rotgelb':\n",
        "            self.__zustand = 'gruen'\n",
        "        elif self.__zustand == 'gruen':\n",
        "            self.__zustand = 'gelb'\n",
        "        elif self.__zustand == 'gelb':\n",
        "            self.__zustand = 'rot'\n",
        "\n",
        "    def getLampen(self):\n",
        "        if self.__zustand == 'rot':\n",
        "            lampen = (True, False, False)\n",
        "        elif self.__zustand == 'rotgelb':\n",
        "            lampen = (True, True, False)\n",
        "        elif self.__zustand == 'gruen':\n",
        "            lampen = (False, False, True)\n",
        "        elif self.__zustand == 'gelb':\n",
        "            lampen = (False, True, False)\n",
        "        return lampen\n",
        "\n",
        "    def getZustand(self):\n",
        "        return self.__zustand\n",
        "\n",
        "    def setZustand(self, z):\n",
        "        self.__zustand = z"
      ]
    },
    {
      "cell_type": "markdown",
      "metadata": {},
      "source": [
        "- Das Attribut `__zutand` beginnt mit zwei Unterstrichen, ist also ein privates Attribut.  \n",
        "- Der Zugriff auf das Attribut `__zutand` kann nur über die öffentlichen Methoden (beginnen nicht mit `__`) erfolgen.  \n"
      ]
    },
    {
      "cell_type": "code",
      "execution_count": 9,
      "metadata": {},
      "outputs": [
        {
          "name": "stdout",
          "output_type": "stream",
          "text": [
            "rotgelb\n",
            "rot\n"
          ]
        }
      ],
      "source": [
        "ampel = Ampel()\n",
        "ampel.schalten()\n",
        "print(ampel.getZustand())\n",
        "ampel.setZustand('rot')\n",
        "print(ampel.getZustand())"
      ]
    },
    {
      "cell_type": "markdown",
      "metadata": {},
      "source": [
        "## Achtung: Python-Besonderheiten\n",
        "Python verhält sich bei privaten Attributen (leider) nicht so restriktiv, wie das eigentlich sein sollte.   \n",
        "Der folgende Python-Dialog zeigt einige Besonderheiten von Python."
      ]
    },
    {
      "cell_type": "code",
      "execution_count": 10,
      "metadata": {},
      "outputs": [
        {
          "ename": "AttributeError",
          "evalue": "'Ampel' object has no attribute '__zustand'",
          "output_type": "error",
          "traceback": [
            "\u001b[31m---------------------------------------------------------------------------\u001b[39m",
            "\u001b[31mAttributeError\u001b[39m                            Traceback (most recent call last)",
            "\u001b[36mCell\u001b[39m\u001b[36m \u001b[39m\u001b[32mIn[10]\u001b[39m\u001b[32m, line 2\u001b[39m\n\u001b[32m      1\u001b[39m a = Ampel()\n\u001b[32m----> \u001b[39m\u001b[32m2\u001b[39m z = \u001b[43ma\u001b[49m\u001b[43m.\u001b[49m\u001b[43m__zustand\u001b[49m\n",
            "\u001b[31mAttributeError\u001b[39m: 'Ampel' object has no attribute '__zustand'"
          ]
        }
      ],
      "source": [
        "a = Ampel()\n",
        "z = a.__zustand"
      ]
    },
    {
      "cell_type": "markdown",
      "metadata": {},
      "source": [
        "Wie erwartet kann man auf das private Attribut __zustand des neu erzeugten Objekts a nicht zugreifen.  \n",
        "Python meldet als Fehler, dass es kein Attribut __zustand gibt."
      ]
    },
    {
      "cell_type": "code",
      "execution_count": null,
      "metadata": {},
      "outputs": [
        {
          "name": "stdout",
          "output_type": "stream",
          "text": [
            "{'_Ampel__zustand': 'rot'}\n"
          ]
        }
      ],
      "source": [
        "a = Ampel()\n",
        "dic = a.__dict__\n",
        "print(dic)"
      ]
    },
    {
      "cell_type": "markdown",
      "metadata": {},
      "source": [
        "Allerdings listet der Aufruf `a.__dict__`  sämtliche Attribute mit den zugehörigen Attributwerten des betreffenden Objekts auf.  \n",
        "Interessant ist hier, dass sich das private Attribut `__zustand` hinter einem anderen Namen versteckt. Wenn man weiß, wie der neue Name - hier `_Ampel__zustand` - gebildet wird, kann man weiterhin auf das betreffende Attribut zugreifen. Also: Private Attribute werden in Python mit anderen Namen versehen, so dass kein direkter Zugriff möglich ist. Kennt man den Namen, hinter dem sich ein privates Attribut verbirgt, so kann man durchaus auf dieses Attribut zugreifen. Python liefert also keinen echten Zugriffsschutz.\n",
        "- siehe https://www.inf-schule.de/modellierung/ooppython/ampel/modularisierung/exkurs_datenkapselungpython"
      ]
    },
    {
      "cell_type": "code",
      "execution_count": null,
      "metadata": {},
      "outputs": [
        {
          "name": "stdout",
          "output_type": "stream",
          "text": [
            "blau\n"
          ]
        }
      ],
      "source": [
        "a._Ampel__zustand = \"blau\"  # was ja eigentlich nicht sein dürfte\n",
        "print(a.getZustand())"
      ]
    },
    {
      "cell_type": "markdown",
      "metadata": {},
      "source": [
        "## Properties in Python\n",
        "siehe:\n",
        "- https://docs.python.org/3.8/library/functions.html#property\n",
        "- https://www.python-kurs.eu/python3_properties.php\n",
        "\n",
        "Stellen wir uns vor, dass wir einen Roboter rob mit dem Namen Robby haben. Robby soll künftig den Namen Robert bekommen.\n",
        "Dies könnten wir mit der Anweisung `rob.setName(\"Robert\")` erreichen. Deutlicher bequemer und leichter lesbar gestaltete sich die Umbennung, als wir noch direkt auf das Attribut mit `rob.name = \"Robert\"`zugreifen konnten.\n",
        "Mit sogenannten Properties können wir diese bequeme Schreibweise wieder ermöglichen, ohne die Kapselung des *privaten* Attributes `__name` wieder zu verletzen. \n",
        "Die Funktion `property` unterstützt neben setter- und getter-Methoden zu den Attributen auch das Löschen von Attributen (Macht das wirklich Sinn??). "
      ]
    },
    {
      "cell_type": "code",
      "execution_count": null,
      "metadata": {},
      "outputs": [],
      "source": [
        "#property?"
      ]
    },
    {
      "cell_type": "code",
      "execution_count": null,
      "metadata": {},
      "outputs": [],
      "source": [
        "class Roboter:\n",
        "    def __init__(self,name):\n",
        "        self.__name = name\n",
        "    def sagHallo(self):\n",
        "        print(\"Hallo, mein Name ist \" + self.getName())\n",
        "    def getName(self):\n",
        "         try:\n",
        "            return self.__name\n",
        "         except AttributeError:\n",
        "            return \"Noname\"\n",
        "    def setName(self,name):\n",
        "        self.__name = name\n",
        "    def delName(self):\n",
        "        del self.__name\n",
        "       \n",
        "    name = property(getName,setName,delName)"
      ]
    },
    {
      "cell_type": "code",
      "execution_count": null,
      "metadata": {},
      "outputs": [
        {
          "name": "stdout",
          "output_type": "stream",
          "text": [
            "Hallo, mein Name ist Robby\n",
            "Hallo, mein Name ist Robert\n",
            "Hallo, mein Name ist Noname\n",
            "Hallo, mein Name ist Nr 7\n"
          ]
        }
      ],
      "source": [
        "robby = Roboter(\"Robby\")\n",
        "robby.sagHallo()\n",
        "robby.name = \"Robert\"\n",
        "robby.sagHallo()\n",
        "del robby.name\n",
        "robby.sagHallo()\n",
        "robby.setName(\"Nr 7\")\n",
        "robby.sagHallo()"
      ]
    },
    {
      "cell_type": "markdown",
      "metadata": {},
      "source": [
        "## Weiteres Beispiel mit Properties. Jetzt auch mit privaten Settern und Gettern"
      ]
    },
    {
      "cell_type": "code",
      "execution_count": null,
      "metadata": {},
      "outputs": [],
      "source": [
        "class Rechteck:\n",
        "    def __init__(self,a,b):\n",
        "        self.__setA(a)\n",
        "        self.__setB(b)\n",
        "    def __getB(self):\n",
        "        return self.__b        \n",
        "    def __getA(self):\n",
        "        return self.__a\n",
        "    def __getB(self):\n",
        "        return self.__b\n",
        "    def __setA(self, a):\n",
        "        if a < 0:\n",
        "            self.__a = 0\n",
        "        else:\n",
        "            self.__a = a\n",
        "    def __setB(self, b):\n",
        "        if b < 0:\n",
        "            self.__b= 0\n",
        "        else:\n",
        "            self.__b = b\n",
        "    def umfang(self):\n",
        "        return 2*self.__a + 2*self.__b\n",
        "    def flaeche(self):\n",
        "        return self.__a* self.__b\n",
        "\n",
        "    a = property(__getA, __setA)\n",
        "    b = property(__getB, __setB)"
      ]
    },
    {
      "cell_type": "code",
      "execution_count": null,
      "metadata": {},
      "outputs": [
        {
          "name": "stdout",
          "output_type": "stream",
          "text": [
            "a: 10  b: 20 U:  60 A:  200\n",
            "a: 0  b: 30 U:  60 A:  0\n"
          ]
        }
      ],
      "source": [
        "r1 = Rechteck(10,20)\n",
        "print(\"a:\",r1.a,\" b:\",r1.b,  \"U: \", r1.umfang(), \"A: \", r1.flaeche())\n",
        "# r1.__setB(-5)  # steht nicht zur Verfügung da privat\n",
        "r1.a = -10\n",
        "r1.b = 30\n",
        "print(\"a:\",r1.a,\" b:\",r1.b,  \"U: \", r1.umfang(), \"A: \", r1.flaeche())"
      ]
    },
    {
      "cell_type": "markdown",
      "metadata": {},
      "source": [
        "## <font color=red >Übung: Realisieren Sie eine Klasse nach Wahl.</font> \n",
        "- Nutzen Sie in der `__init__()` Methode default-Parameter\n",
        "- Kapseln Sie die Attribute\n",
        "- Schützen Sie die Attribute in den setter-Methoden vor unzulässigen Werten\n",
        "- Implementieren Sie die Methode `__str__(self)`\n",
        "- Testen Sie ihre Klasse"
      ]
    },
    {
      "cell_type": "code",
      "execution_count": 21,
      "metadata": {},
      "outputs": [
        {
          "name": "stdout",
          "output_type": "stream",
          "text": [
            "Bugatti\n",
            "10000 km\n",
            " \n",
            "Porsche\n",
            " \n",
            "Unbekannt\n",
            "0 km\n",
            "Audi\n"
          ]
        }
      ],
      "source": [
        "class Auto:\n",
        "    def __init__(self,marke = \"Unbekannt\", km = 0):\n",
        "        self.__marke = marke\n",
        "        self.__km = km\n",
        "        \n",
        "    def __getMarke(self):\n",
        "        return self.__marke\n",
        "    \n",
        "    def __getKm(self):\n",
        "        return f\"{self.__km} km\"\n",
        "        \n",
        "    def __setMarke(self,marke):\n",
        "        self.__marke = marke\n",
        "\n",
        "    def __setKm(self,km):\n",
        "        self.__km = km\n",
        "\n",
        "    def __delMarke(self):\n",
        "        del self.__marke\n",
        "    \n",
        "    def __delKm(self):\n",
        "        del self.__km\n",
        "    \n",
        "    marke = property(__getMarke, __setMarke, __delMarke)\n",
        "    km = property(__getKm,__setKm,__delKm)\n",
        "       \n",
        "a1 = Auto(\"Bugatti\",10000)\n",
        "print(a1.marke)\n",
        "print(a1.km)\n",
        "print(\" \")\n",
        "\n",
        "a1.marke = \"Porsche\"\n",
        "print(a1.marke)\n",
        "del a1.marke\n",
        "\n",
        "print(\" \")\n",
        "a2 = Auto()\n",
        "print(a2.marke)\n",
        "print(a2.km)\n",
        "a2.marke = \"Audi\"\n",
        "print(a2.marke)\n",
        "\n"
      ]
    }
  ],
  "metadata": {
    "kernel_info": {
      "name": "python"
    },
    "kernelspec": {
      "display_name": "Python 3",
      "language": "python",
      "name": "python3"
    },
    "language_info": {
      "codemirror_mode": {
        "name": "ipython",
        "version": 3
      },
      "file_extension": ".py",
      "mimetype": "text/x-python",
      "name": "python",
      "nbconvert_exporter": "python",
      "pygments_lexer": "ipython3",
      "version": "3.12.1"
    },
    "nteract": {
      "version": "nteract-front-end@1.0.0"
    }
  },
  "nbformat": 4,
  "nbformat_minor": 4
}
