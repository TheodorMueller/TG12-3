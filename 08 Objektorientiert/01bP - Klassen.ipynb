{
  "cells": [
    {
      "cell_type": "markdown",
      "id": "35b92e19-ebed-4e6f-b526-cf38b413aae1",
      "metadata": {},
      "source": [
        "# Klassenattribute, Klassenmethoden und Klassen-Properties in Python\n",
        "\n",
        "Klassen können nicht nur als Baupläne für Objekte dienen, sondern auch selbst Informationen speichern und Funktionen bereitstellen. In diesem Zusammenhang spricht man von Klassenattributen, Klassenmethoden und Klassen-Properties."
      ]
    },
    {
      "cell_type": "markdown",
      "id": "ae2ab841-56c6-4330-932f-fc730e2e6d5b",
      "metadata": {},
      "source": [
        "## Klassenattribute"
      ]
    },
    {
      "cell_type": "markdown",
      "id": "558e1076-247d-415c-9b0c-9be38a4dad21",
      "metadata": {},
      "source": [
        "Klassenattribute gehören nicht zu einem einzelnen Objekt, sondern zur Klasse selbst. Das bedeutet, sie werden von allen Instanzen gemeinsam genutzt. Typische Einsatzgebiete für Klassenattribute sind Zähler, Konstanten oder allgemein Daten, die für alle Objekte einer Klasse gleich gelten sollen."
      ]
    },
    {
      "cell_type": "code",
      "execution_count": 5,
      "id": "566f574f-5d80-47d5-9bcc-e573c24108b3",
      "metadata": {},
      "outputs": [
        {
          "name": "stdout",
          "output_type": "stream",
          "text": [
            "Anzahl Schüler: 2\n"
          ]
        }
      ],
      "source": [
        "class Schueler:\n",
        "    anzahl = 0   # Klassenattribut\n",
        "\n",
        "    def __init__(self, name):\n",
        "        self.name = name\n",
        "        Schueler.anzahl += 1\n",
        "\n",
        "s1 = Schueler(\"Alex\")\n",
        "s2 = Schueler(\"Sam\")\n",
        "print(\"Anzahl Schüler:\", Schueler.anzahl)"
      ]
    },
    {
      "cell_type": "markdown",
      "id": "a376619b-75d7-4e48-b4a4-213b18a99c40",
      "metadata": {},
      "source": [
        "## Klassenmethoden"
      ]
    },
    {
      "cell_type": "markdown",
      "id": "809cce8b-e0f3-433d-9761-ac4ddaa05dc1",
      "metadata": {},
      "source": [
        "Klassenmethoden werden mit dem Dekorator @classmethod gekennzeichnet. Anders als Instanzmethoden erhalten sie nicht das Objekt (self), sondern die Klasse selbst (cls) als ersten Parameter. Sie werden typischerweise genutzt, um auf Klassenattribute zuzugreifen oder diese zu verändern sowie um alternative Konstruktoren für die Objekterzeugung bereitzustellen."
      ]
    },
    {
      "cell_type": "code",
      "execution_count": 3,
      "id": "6ea9d503-88ed-4730-b080-5a94c0f04973",
      "metadata": {},
      "outputs": [
        {
          "name": "stdout",
          "output_type": "stream",
          "text": [
            "Es gibt aktuell 1 Schüler.\n"
          ]
        }
      ],
      "source": [
        "class Schueler:\n",
        "    anzahl = 0\n",
        "\n",
        "    def __init__(self, name):\n",
        "        self.name = name\n",
        "        Schueler.anzahl += 1\n",
        "\n",
        "    @classmethod\n",
        "    def statistik(cls):\n",
        "        return f\"Es gibt aktuell {cls.anzahl} Schüler.\"\n",
        "\n",
        "    @classmethod\n",
        "    def von_string(cls, text: str):\n",
        "        name = text.split(\";\")[0]\n",
        "        return cls(name)\n",
        "\n",
        "s3 = Schueler.von_string(\"Chris;12\")\n",
        "print(Schueler.statistik())"
      ]
    },
    {
      "cell_type": "markdown",
      "id": "e10aa9a1-424f-477f-9cca-366894ed3150",
      "metadata": {},
      "source": [
        "## Private Klassenattribute"
      ]
    },
    {
      "cell_type": "markdown",
      "id": "16b9297c-d1ab-4262-92a2-ddebb287bd81",
      "metadata": {},
      "source": [
        "Private Klassenattribute werden in Python durch ein doppeltes Unterstrich-Präfix (`__name`) gekennzeichnet. Dadurch greift das sogenannte Namens-Mangling, das den direkten Zugriff von außen erschwert. Der Zugriff auf solche Attribute sollte ausschließlich über Methoden oder Properties erfolgen, sodass eine kontrollierte und sichere Nutzung möglich ist."
      ]
    },
    {
      "cell_type": "code",
      "execution_count": 9,
      "id": "63b82e5f-e11f-4df8-8709-56f51989ad9d",
      "metadata": {},
      "outputs": [
        {
          "name": "stdout",
          "output_type": "stream",
          "text": [
            "Zins: 0.02\n",
            "Neuer Zins: 0.05\n"
          ]
        }
      ],
      "source": [
        "class Konto:\n",
        "    __zins_satz = 0.02   # privates Klassenattribut\n",
        "\n",
        "    @classmethod\n",
        "    def get_zins(cls):\n",
        "        return cls.__zins_satz\n",
        "\n",
        "    @classmethod\n",
        "    def set_zins(cls, wert):\n",
        "        if not (0 <= wert <= 0.2):\n",
        "            raise ValueError(\"Zins muss zwischen 0% und 20% liegen\")\n",
        "        cls.__zins_satz = wert\n",
        "\n",
        "print(\"Zins:\", Konto.get_zins())\n",
        "Konto.set_zins(0.05)\n",
        "print(\"Neuer Zins:\", Konto.get_zins())"
      ]
    },
    {
      "cell_type": "markdown",
      "id": "33ef652f-fb0e-4318-b81e-b05d3149709a",
      "metadata": {},
      "source": [
        "## Klassen-Properties"
      ]
    },
    {
      "cell_type": "markdown",
      "id": "68145699-a23d-4117-8e9b-ba2deb4d711f",
      "metadata": {},
      "source": [
        "Klassen-Properties werdn in Python nicht offiziell unterstützt. Statt dessen sollen Klassenmethoden genutzt werden."
      ]
    },
    {
      "cell_type": "markdown",
      "id": "2370f4e2-2087-4cd8-8cc4-4092ae365a5b",
      "metadata": {},
      "source": [
        "## <font color=red >Übung</font> "
      ]
    },
    {
      "cell_type": "markdown",
      "id": "437fbdb2-81ea-49cc-ac0c-e5f3e8b6528c",
      "metadata": {},
      "source": [
        "Ziel: Eine Auto-Klasse, die sowohl Klassenattribute als auch Klassenmethoden verwendet, um gemeinsame Daten für alle Objekte zu verwalten, alternative Konstruktionsmöglichkeiten bereitzustellen und den Zugriff auf bestimmte Werte kontrolliert zu ermöglichen.\n",
        "\n",
        "Erstellen Sie die Klasse `Auto` so, dass:\n",
        "\n",
        "1. `__anzahl_autos` (privat) über eine **Klassenmethode** lesbar ist.  \n",
        "2. `__baujahr_max` (privat) über eine **Klassenmethode** gesteuert werden kann.  \n",
        "3. Im Konstruktor geprüft wird, dass kein `baujahr` größer als `baujahr_max` erlaubt ist.  \n",
        "4. Die Methode `von_string()` ein Auto aus `\"Marke;Baujahr\"` erzeugt.  \n",
        "5. Der nachfolgende Test muss fehlerfrei sein."
      ]
    },
    {
      "cell_type": "code",
      "execution_count": 18,
      "id": "d64cbe31",
      "metadata": {},
      "outputs": [],
      "source": [
        "class Auto:\n",
        "    pass\n"
      ]
    },
    {
      "cell_type": "code",
      "execution_count": 19,
      "id": "200de408",
      "metadata": {},
      "outputs": [
        {
          "ename": "TypeError",
          "evalue": "Auto() takes no arguments",
          "output_type": "error",
          "traceback": [
            "\u001b[31m---------------------------------------------------------------------------\u001b[39m",
            "\u001b[31mTypeError\u001b[39m                                 Traceback (most recent call last)",
            "\u001b[36mCell\u001b[39m\u001b[36m \u001b[39m\u001b[32mIn[19]\u001b[39m\u001b[32m, line 1\u001b[39m\n\u001b[32m----> \u001b[39m\u001b[32m1\u001b[39m a1 = \u001b[43mAuto\u001b[49m\u001b[43m(\u001b[49m\u001b[33;43m\"\u001b[39;49m\u001b[33;43mVW\u001b[39;49m\u001b[33;43m\"\u001b[39;49m\u001b[43m,\u001b[49m\u001b[43m \u001b[49m\u001b[32;43m2010\u001b[39;49m\u001b[43m)\u001b[49m\n\u001b[32m      2\u001b[39m a2 = Auto(\u001b[33m\"\u001b[39m\u001b[33mBMW\u001b[39m\u001b[33m\"\u001b[39m, \u001b[32m2015\u001b[39m)\n\u001b[32m      3\u001b[39m a3 = Auto.von_string(\u001b[33m\"\u001b[39m\u001b[33mTesla;2020\u001b[39m\u001b[33m\"\u001b[39m)\n",
            "\u001b[31mTypeError\u001b[39m: Auto() takes no arguments"
          ]
        }
      ],
      "source": [
        "a1 = Auto(\"VW\", 2010)\n",
        "a2 = Auto(\"BMW\", 2015)\n",
        "a3 = Auto.von_string(\"Tesla;2020\")\n",
        "\n",
        "print(\"Gesamtanzahl Autos:\", Auto.get_anzahl())\n",
        "print(\"Max Baujahr erlaubt:\", Auto.get_baujahr_max())\n",
        "\n",
        "Auto.baujahr_max = 2030\n",
        "print(\"Neues max Baujahr:\", Auto.baujahr_max)\n",
        "\n",
        "try:\n",
        "    a4 = Auto(\"Audi\", 2050)\n",
        "except ValueError as e:\n",
        "    print(\"Fehler:\", e)"
      ]
    },
    {
      "cell_type": "code",
      "execution_count": null,
      "id": "5a6a619b",
      "metadata": {},
      "outputs": [],
      "source": []
    }
  ],
  "metadata": {
    "kernel_info": {
      "name": "python"
    },
    "kernelspec": {
      "display_name": "Python 3",
      "language": "python",
      "name": "python3"
    },
    "language_info": {
      "codemirror_mode": {
        "name": "ipython",
        "version": 3
      },
      "file_extension": ".py",
      "mimetype": "text/x-python",
      "name": "python",
      "nbconvert_exporter": "python",
      "pygments_lexer": "ipython3",
      "version": "3.12.1"
    },
    "nteract": {
      "version": "nteract-front-end@1.0.0"
    }
  },
  "nbformat": 4,
  "nbformat_minor": 5
}
