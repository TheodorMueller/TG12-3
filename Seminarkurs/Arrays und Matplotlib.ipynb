{
 "cells": [
  {
   "cell_type": "markdown",
   "id": "208f9e13",
   "metadata": {},
   "source": [
    "# 1 Datentypen\n",
    "## 1.1 Listen\n",
    "Eine Liste ist eine Aneinanderreihung von beliebigen Pythonobjekten. Einige Eigenschaften von Listen lernst Du\n",
    "kennen, wenn Du folgendes Programm ausführst:\n"
   ]
  },
  {
   "cell_type": "code",
   "execution_count": 11,
   "id": "17824428",
   "metadata": {},
   "outputs": [
    {
     "name": "stdout",
     "output_type": "stream",
     "text": [
      "<class 'list'>\n",
      "[1, 2.0, 'Klaus']\n",
      "Das Element am Index  1  der Liste ist 2.0\n",
      "[1, 'Peter', 'Klaus']\n",
      "[1, 'Peter', 'Klaus', 7]\n",
      "Liste ohne Peter: [1, 'Klaus', 7]\n",
      "Die Liste hat 3 Elemente\n"
     ]
    }
   ],
   "source": [
    "lst=[1,2.0,'Klaus']\n",
    "print(type(lst))\n",
    "print(lst)\n",
    "i=1\n",
    "print('Das Element am Index ',i,' der Liste ist',lst[1])\n",
    "lst[1]='Peter'\n",
    "print(lst)\n",
    "#der Liste kann man Elemente hinzufügen:\n",
    "lst.append(7)\n",
    "print(lst)\n",
    "#man kann auch ein Element rauslöschen, etwa Peter\n",
    "del lst[1]\n",
    "print('Liste ohne Peter:',lst)\n",
    "#Die Anzahl der Elemente in einer Liste erhält man so:\n",
    "l=len(lst)\n",
    "print('Die Liste hat',l,'Elemente')"
   ]
  },
  {
   "cell_type": "markdown",
   "id": "c9389bd5",
   "metadata": {},
   "source": [
    "**Beachte:** Die Objekte in einer Liste können einen Typ haben: integer (wie 1 unserem Beispiel) , string (wie Klaus),\n",
    "float (wie 2.0),...  \n",
    "## 1.2 Arrays\n",
    "Listen sind praktisch. Aber sie haben eine Nachteil: Man kann mit ihnen nicht so gut Mathematik treiben. Für\n",
    "Mathematik, Physik, Technik ... benötigen wir das Modul NumPy. NumPy ist ein Python-Modul, mit dem du\n",
    "effizient mit großen Zahlenmengen, Tabellen und mathematischen Berechnungen arbeiten kannst – praktisch, wenn\n",
    "Du physikalische Simulationen durchführen möchtest.\n",
    "Den wichtigsten Datentyp in Numpy stellt das Array dar. Eine Array ist so ähnlich wie eine Liste, mit dem großen\n",
    "Unterschied, dass bei einem Array alle Elemente von gleichen Datentyp sein müssen.  \n",
    "**Beispiel:** Stell dir vor, du willst die Noten deiner Freunde in Mathe speichern: 2, 3, 1, 4, 2. Mit einem Array kannst\n",
    "du das so machen:\n"
   ]
  },
  {
   "cell_type": "code",
   "execution_count": 12,
   "id": "377bf6bb",
   "metadata": {},
   "outputs": [],
   "source": [
    "import numpy as np\n",
    "noten = np.array([2, 3, 1, 4, 2])"
   ]
  },
  {
   "cell_type": "markdown",
   "id": "e9a766c3",
   "metadata": {},
   "source": [
    "Jetzt hast du alle Noten in einer einzigen Variable gespeichert - wie in einem Notizbuch mit nummerierten Seiten.\n",
    "Du kannst z.B. die erste Note abrufen mit:"
   ]
  },
  {
   "cell_type": "code",
   "execution_count": 13,
   "id": "3f0ad1e6",
   "metadata": {},
   "outputs": [
    {
     "name": "stdout",
     "output_type": "stream",
     "text": [
      "2\n"
     ]
    }
   ],
   "source": [
    "print(noten[0]) # Ausgabe: 2\n"
   ]
  },
  {
   "cell_type": "markdown",
   "id": "c3a6d0a4",
   "metadata": {},
   "source": [
    "Oder den Durchschnitt berechnen:"
   ]
  },
  {
   "cell_type": "code",
   "execution_count": 14,
   "id": "c86b397e",
   "metadata": {},
   "outputs": [
    {
     "name": "stdout",
     "output_type": "stream",
     "text": [
      "2.4\n"
     ]
    }
   ],
   "source": [
    "print(np.mean(noten))\n"
   ]
  },
  {
   "cell_type": "markdown",
   "id": "109350be",
   "metadata": {},
   "source": [
    "Das war ein Beispiel für Mathematik mit arrays!\n",
    "Praktisch sind arrays auch für Funktionen:"
   ]
  },
  {
   "cell_type": "code",
   "execution_count": 20,
   "id": "d9df6aa5",
   "metadata": {},
   "outputs": [
    {
     "name": "stdout",
     "output_type": "stream",
     "text": [
      "[9 1 0 1 4]\n"
     ]
    }
   ],
   "source": [
    "x=np.array([-3,-1,0,-1,2])\n",
    "y=x**2\n",
    "print(y)"
   ]
  },
  {
   "cell_type": "markdown",
   "id": "12cee531",
   "metadata": {},
   "source": [
    "Jetzt hast Du in einem Rutsch alle Elemente von x quadriert.\n",
    "Passiert, wenn Du"
   ]
  },
  {
   "cell_type": "code",
   "execution_count": 21,
   "id": "2338a4c3",
   "metadata": {},
   "outputs": [
    {
     "name": "stdout",
     "output_type": "stream",
     "text": [
      "[-2  0  1  0  3]\n",
      "[-6 -2  0 -2  4]\n"
     ]
    }
   ],
   "source": [
    "x=np.array([-3,-1,0,-1,2])\n",
    "y=x+1\n",
    "print(y)\n",
    "#oder\n",
    "y2=x*2\n",
    "print(y2)"
   ]
  },
  {
   "cell_type": "markdown",
   "id": "4a847564",
   "metadata": {},
   "source": [
    "machst?  \n",
    "Vielleicht ist Dir aufgefallen, dass Du ein array erzeugt hast, indem Du die Liste [−3, −1, 0, −1, 2] in ein Array\n",
    "umgewandelt hast. Das macht man oft, es gibt aber noch andere Möglichkeiten (siehe unten).  \n",
    "Erst noch ein paar nützliche Array-Befehle:\n"
   ]
  },
  {
   "cell_type": "code",
   "execution_count": null,
   "id": "682850ba",
   "metadata": {},
   "outputs": [
    {
     "name": "stdout",
     "output_type": "stream",
     "text": [
      "[1. 2. 3. 4. 5. 6.]\n",
      "6\n",
      "Das  0 .Elemente ist 1.0\n",
      "Das  3 .Elemente ist 4.0\n",
      "Datentyp: float64\n"
     ]
    }
   ],
   "source": [
    "#erzeugen aus eine Liste\n",
    "a=np.array([1.0,2.0,3.0,4.0,5.0,6.0])\n",
    "print(a)\n",
    "#Die Anzahl der Elemente erhält man so:\n",
    "s=a.size\n",
    "print(s)\n",
    "i=0\n",
    "print('Das ',i,'.Elemente ist',a[i])\n",
    "i=3\n",
    "print('Das ',i,'.Elemente ist',a[i])\n",
    "#wichtig ist auch der Datentyp:\n",
    "print('Datentyp:',a.dtype)"
   ]
  },
  {
   "cell_type": "markdown",
   "id": "c9bcdab2",
   "metadata": {},
   "source": [
    "Beim Datentyp muss man aufpassen: Wenn man das Array aus einer Liste erzeugt, so versucht NumPy, den Datentyp\n",
    "des Arrays aus den in der Liste enthaltenen Daten abzuleiten. Sieh hier:"
   ]
  },
  {
   "cell_type": "code",
   "execution_count": 22,
   "id": "286f9c5c",
   "metadata": {},
   "outputs": [
    {
     "name": "stdout",
     "output_type": "stream",
     "text": [
      "[ 1  2 42]\n",
      "[ 1.   2.  42.7]\n",
      "int64\n",
      "float64\n"
     ]
    }
   ],
   "source": [
    "import numpy as np\n",
    "a=np.array([1,2,3])\n",
    "b=np.array([1.0,2,4])\n",
    "# Prüfe mit a.type und b.type den Datentyp\n",
    "a[2]=42.7\n",
    "b[2]=42.7\n",
    "print(a)\n",
    "print(b)\n",
    "print(a.dtype)\n",
    "print(b.dtype)\n",
    "#gemein, gemein..."
   ]
  },
  {
   "cell_type": "markdown",
   "id": "d01ee52b",
   "metadata": {},
   "source": [
    "Was ist daran eigentlich gemein?  \n",
    "  \n",
    "#### Erzeugen von Arrays \n",
    "In den bisherigen Beispielen wurde ein Array immer aus einer Liste erzeugt. Es gibt noch\n",
    "andere Möglichkeiten:"
   ]
  },
  {
   "cell_type": "code",
   "execution_count": 25,
   "id": "d827f2d5",
   "metadata": {},
   "outputs": [
    {
     "name": "stdout",
     "output_type": "stream",
     "text": [
      "[ 1  3  5  7  9 11 13 15 17 19]\n",
      "[ 1.          4.33333333  7.66666667 11.         14.33333333 17.66666667\n",
      " 21.        ]\n",
      "[ 1.   2.  42.7]\n",
      "[0. 0. 0. 0. 0. 0. 0. 0. 0. 0.]\n",
      "[1. 1. 1. 1. 1. 1. 1. 1. 1. 1. 1. 1. 1. 1. 1. 1. 1. 1. 1. 1. 1. 1. 1. 1.\n",
      " 1. 1. 1. 1. 1. 1. 1. 1. 1. 1. 1. 1. 1. 1. 1. 1. 1. 1. 1. 1. 1. 1. 1. 1.\n",
      " 1. 1. 1. 1. 1. 1. 1. 1. 1. 1. 1. 1. 1. 1. 1. 1. 1. 1. 1. 1. 1. 1. 1. 1.\n",
      " 1. 1. 1. 1. 1. 1. 1. 1. 1. 1. 1. 1. 1. 1. 1. 1. 1. 1. 1. 1. 1. 1. 1. 1.\n",
      " 1. 1. 1. 1.]\n",
      "[10. 10. 10. 10. 10. 10. 10. 10. 10. 10. 10. 10. 10. 10. 10. 10. 10. 10.\n",
      " 10. 10. 10. 10. 10. 10. 10. 10. 10. 10. 10. 10. 10. 10. 10. 10. 10. 10.\n",
      " 10. 10. 10. 10. 10. 10. 10. 10. 10. 10. 10. 10. 10. 10. 10. 10. 10. 10.\n",
      " 10. 10. 10. 10. 10. 10. 10. 10. 10. 10. 10. 10. 10. 10. 10. 10. 10. 10.\n",
      " 10. 10. 10. 10. 10. 10. 10. 10. 10. 10. 10. 10. 10. 10. 10. 10. 10. 10.\n",
      " 10. 10. 10. 10. 10. 10. 10. 10. 10. 10.]\n",
      "[1.41421356 1.41421356 1.41421356 1.41421356 1.41421356 1.41421356\n",
      " 1.41421356 1.41421356 1.41421356 1.41421356]\n"
     ]
    }
   ],
   "source": [
    "import numpy as np\n",
    "#np.arange(Anfang,Ende,Schrittweite)\n",
    "a=np.arange(1,20,2)\n",
    "print(a)\n",
    "#Erzeuge mit np.arange das Array [4,7,10,13,16]\n",
    "# Es geht aber auch so:\n",
    "#np.linespace(Anfang,Ende,Anzahl)\n",
    "a=np.linspace(1,21,5)\n",
    "a=np.linspace(1,21,7)\n",
    "print(a)\n",
    "print(b)\n",
    "#Wenn man nur Nuller will,kann man schreiben\n",
    "n=np.zeros(10)\n",
    "print(n)\n",
    "#einsen erhält man so\n",
    "eins=np.ones(100)\n",
    "print(eins)\n",
    "#Zehner sind dann\n",
    "zehn=eins*10\n",
    "print(zehn)\n",
    "#lauter wurzelzweier könnte man so erzeugen\n",
    "sqrt2=np.sqrt(np.ones(10)*2)\n",
    "print(sqrt2)"
   ]
  },
  {
   "cell_type": "markdown",
   "id": "f5893d3c",
   "metadata": {},
   "source": [
    "<u>**Aufgabe:**</u> Erzeuge das Array t mit Elementen von einschliesslich 0 bis einschliesslich 1 mit der Schrittweite 0.1"
   ]
  },
  {
   "cell_type": "code",
   "execution_count": 27,
   "id": "9477bf25",
   "metadata": {},
   "outputs": [
    {
     "name": "stdout",
     "output_type": "stream",
     "text": [
      "[0.  0.1 0.2 0.3 0.4 0.5 0.6 0.7 0.8 0.9 1. ]\n"
     ]
    }
   ],
   "source": [
    "import numpy as np\n",
    "t = np.arange(0,1.1,0.1)\n",
    "print(t)"
   ]
  },
  {
   "cell_type": "markdown",
   "id": "410e568d",
   "metadata": {},
   "source": [
    "# 2 Graphische Ausgabe mit matplotlib\n",
    "In der Physik und in den Naturwissenschaften werden sehr häufig Diagramm verwendet, die den Zusammenhang von\n",
    "Größen veranschaulicht. Z.B kann man die Geschwindigkeit eines Balls gegen die Zeit auftragen. Die Bibliothek Matplotlib bietet eine riesiges Reservoir an graphischen Darstellungsmöglichkeiten, wir werden aber nur wenige brauchen.  \n",
    "Hier findest Du ganz viele Beispiele: https://matplotlib.org/stable/gallery/index.html. Wenn ich nicht\n",
    "weiß, wie man das Diagramm erzeugt, das ich im Kopf habe, schaue ich dort noch einem Beispiel, dass ungefähr so\n",
    "aus, wie ich es mir vorstelle.  \n",
    "  \n",
    "**Beispiel** Es soll die Polynomfunktion $f(x) = \\frac{1}{4}(x + 1)(x − 2)^3$ \n",
    "im Intervall [−2, 4] dargestellt werden\n"
   ]
  },
  {
   "cell_type": "code",
   "execution_count": 29,
   "id": "75c71afa",
   "metadata": {},
   "outputs": [
    {
     "data": {
      "image/png": "[encoded data removed]",
      "text/plain": [
       "<Figure size 640x480 with 1 Axes>"
      ]
     },
     "metadata": {},
     "output_type": "display_data"
    }
   ],
   "source": [
    "import numpy as np\n",
    "import matplotlib.pyplot as plt\n",
    "#Festlegen der x-Werte\n",
    "x=np.arange(-2,4,0.1)\n",
    "#Berechung der y-Werte für f(x)\n",
    "y=0.25*(x+1)*(x-2)**3\n",
    "#Jetzt wird eine Figur erzeugt. D.h. man erzeugt ein neues Fenster\n",
    "fig=plt.figure()\n",
    "#in dieses Fenster können verschiedene Diagramme angeordnet werden. Mit diesem Befehl erzeugt man ein\n",
    "#ein Koordinatensystem\n",
    "ax=fig.add_subplot(1,1,1)\n",
    "ax.plot(x,y)\n",
    "plt.show()\n"
   ]
  },
  {
   "cell_type": "markdown",
   "id": "97599b42",
   "metadata": {},
   "source": [
    "Das sieht noch ein bisschen unschön aus! Füge für dem `ax.plot(x,y)` folgende Befehle ein:"
   ]
  },
  {
   "cell_type": "code",
   "execution_count": 36,
   "id": "1954edb8",
   "metadata": {},
   "outputs": [],
   "source": [
    "ax.set_xlabel('x')\n",
    "ax.set_ylabel('y')\n",
    "ax.grid(True)\n",
    "\n",
    "# Achsenbereich festlegen\n",
    "ax.set_xlim(-1.5, 4) # X-Achse von -1.5 bis 4\n",
    "ax.set_ylim(-3, 5) # Y-Achse von -3 bis 5\n",
    "plt.show()"
   ]
  }
 ],
 "metadata": {
  "kernelspec": {
   "display_name": "Python 3",
   "language": "python",
   "name": "python3"
  },
  "language_info": {
   "codemirror_mode": {
    "name": "ipython",
    "version": 3
   },
   "file_extension": ".py",
   "mimetype": "text/x-python",
   "name": "python",
   "nbconvert_exporter": "python",
   "pygments_lexer": "ipython3",
   "version": "3.12.1"
  }
 },
 "nbformat": 4,
 "nbformat_minor": 5
}
