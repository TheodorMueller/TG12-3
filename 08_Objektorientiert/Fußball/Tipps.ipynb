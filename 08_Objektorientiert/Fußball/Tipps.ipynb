{
 "cells": [
  {
   "cell_type": "markdown",
   "id": "badc2464",
   "metadata": {},
   "source": [
    "# Terminal\n",
    "\n",
    "### Ordner ändern\n",
    "`cd 08_Objektorientiert/Fußball/` um direkt im Ordner `Fußball` zu schreiben\n",
    "\n",
    "### Server starten\n",
    "`python server.py`\n",
    "\n",
    "### Client starten\n",
    "`python client.py`\n",
    "\n",
    "\n",
    "### Was ist im Ordner?\n",
    "`ls`"
   ]
  }
 ],
 "metadata": {
  "language_info": {
   "name": "python"
  }
 },
 "nbformat": 4,
 "nbformat_minor": 5
}
