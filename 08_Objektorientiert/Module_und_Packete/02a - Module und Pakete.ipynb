{
  "cells": [
    {
      "cell_type": "markdown",
      "id": "5176fbd7",
      "metadata": {},
      "source": [
        "\n",
        "# Module & Packages in Python"
      ]
    },
    {
      "cell_type": "markdown",
      "id": "eb1816a9",
      "metadata": {},
      "source": [
        "\n",
        "## Module vs. Packages\n",
        "\n",
        "Jede Python-Datei (`.py`) mit Funktionen, Klassen und Konstanten ist ein **Modul**. Beispiel: `math.py` ist ein eingebautes Modul (dass in C geschrieben und eingebunden ist).\n",
        "\n",
        "Ein **Ordner** mit (Unter‑)Modulen ist ein **Paket**.Im Ordner muss eine leere Datei mit Namen `__init__.py` enthalten sein. Beispiel: `numpy` ist ein Package mit vielen Untermodulen.\n",
        "\n",
        "## Import-Formen\n",
        "Python sucht Module/Pakete auf dem sog. **Modulpfad** (aktuelles Verzeichnis, installierte Pakete, Standardbibliothek, …)."
      ]
    },
    {
      "cell_type": "code",
      "execution_count": 1,
      "id": "45c030e6",
      "metadata": {},
      "outputs": [],
      "source": [
        "import math                   # volles Modul\n",
        "import math as m              # Modul mit alternativem Namen\n",
        "from math import sqrt, pi     # Direktimport der benötigten Methoden\n",
        "from math import *            # Nicht empfohlen (Namespace-Verschmutzung)"
      ]
    },
    {
      "cell_type": "markdown",
      "id": "6cea4af1",
      "metadata": {},
      "source": [
        "**Empfehlung:** Die Importwege `import math` oder `from math import sqrt, pi` empfinden viele Programmierer als übersichtlich.\n"
      ]
    },
    {
      "cell_type": "markdown",
      "id": "34c03f95",
      "metadata": {},
      "source": [
        "## <font color=red >Übung</font> \n",
        "Berechne die Wurzel von 25 und verwende die Methode `sqrt` über drei verschiedene Importwege."
      ]
    },
    {
      "cell_type": "code",
      "execution_count": null,
      "id": "0c2e3177",
      "metadata": {},
      "outputs": [
        {
          "name": "stdout",
          "output_type": "stream",
          "text": [
            "5.0\n",
            "5.0\n",
            "5.0\n"
          ]
        }
      ],
      "source": [
        "import math\n",
        "print(math.sqrt(25))\n",
        "\n",
        "import math as m\n",
        "print(m.sqrt(25))\n",
        "\n",
        "from math import sqrt\n",
        "print(sqrt(25))"
      ]
    },
    {
      "cell_type": "markdown",
      "id": "9e4998db",
      "metadata": {},
      "source": [
        "\n",
        "### Dokumentation von Modulen und Paketen\n",
        "Die Pakete `math`und `random`kommen häufig zum Einsatz.\n",
        "- https://docs.python.org/3.13/library/math.html\n",
        "- https://docs.python.org/3.13/library/random.html\n"
      ]
    }
  ],
  "metadata": {
    "kernel_info": {
      "name": "python"
    },
    "kernelspec": {
      "display_name": "Python 3",
      "language": "python",
      "name": "python3"
    },
    "language_info": {
      "codemirror_mode": {
        "name": "ipython",
        "version": 3
      },
      "file_extension": ".py",
      "mimetype": "text/x-python",
      "name": "python",
      "nbconvert_exporter": "python",
      "pygments_lexer": "ipython3",
      "version": "3.12.1"
    },
    "nteract": {
      "version": "nteract-front-end@1.0.0"
    }
  },
  "nbformat": 4,
  "nbformat_minor": 5
}
