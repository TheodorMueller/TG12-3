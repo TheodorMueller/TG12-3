{
 "cells": [
  {
   "cell_type": "markdown",
   "metadata": {},
   "source": [
    "# Grundlagen Netzwerke\n",
    "\n",
    "## Ziel\n",
    "\n",
    "Ich kann\n",
    "\n",
    "- die Verbindungen von Client und Server beschreiben\n",
    "\n",
    "## Einführung in Netzwerke\n",
    "\n",
    "Ein Netzwerk besteht aus mehreren Computern, die miteinander verbunden sind, um Daten auszutauschen.\n",
    "\n",
    "-\tBeispiele: LAN, WAN, Internet\n",
    "\n",
    "## Client-Server-Modell\n",
    "\n",
    "-\tClient: Ein Gerät oder Programm, das eine Anfrage stellt (z.B. Webbrowser).\n",
    "\n",
    "-\tServer: Ein Gerät oder Programm, das auf Anfragen reagiert und Dienste bereitstellt (z.B. Webserver).\n",
    "\n",
    "![Bild 1](bilder/client-server.jpg)\n",
    "\n",
    "## IP-Adressen und Ports\n",
    "\n",
    "-\tIP-Adresse: Eine eindeutige Adresse, die ein Gerät in einem Netzwerk identifiziert.\n",
    "\n",
    "-\tPort: Ein logischer Zugangspunkt zur Kommunikation über ein Netzwerk.\n",
    "\n",
    "-\tBeispiele: HTTP (Port 80), HTTPS (Port 443).\n",
    "\n",
    "![Bild 2](bilder/ip+port.png)\n",
    "\n",
    "## Domain-Name\n",
    "Im Internet verwenden wir Domainnamen wie www.schule.de anstelle von numerischen IP-Adressen wie 192.0.2.1, da sie für Menschen deutlich leichter zu merken und zu handhaben sind. Namen lassen sich intuitiver erfassen als Zahlenfolgen, insbesondere bei der täglichen Nutzung von Webseiten und Online-Diensten.\n",
    "\n",
    "Damit der Computer dennoch weiß, welche IP-Adresse sich hinter einem Domainnamen verbirgt, wird das sogenannte Domain Name System (DNS) eingesetzt. Es übernimmt die Aufgabe, Namen in IP-Adressen aufzulösen, ähnlich wie ein digitales Telefonbuch:\n",
    "\t1.\tDer Benutzer gibt einen Domainnamen in den Browser ein.\n",
    "\t2.\tEine Anfrage wird an einen DNS-Server gesendet.\n",
    "\t3.\tDer DNS-Server antwortet mit der zugehörigen IP-Adresse.\n",
    "\t4.\tErst dann kann eine Verbindung zum eigentlichen Server aufgebaut werden.\n",
    "\n",
    "Dieses System bildet eine zentrale Grundlage für die Funktionalität und Benutzerfreundlichkeit des Internets.\n",
    "\n",
    "### Domain-Name 'localhost'\n",
    "Der Begriff „localhost“ bezeichnet in der Netzwerktechnik den eigenen Rechner – also das lokale System, auf dem ein Programm oder Dienst gerade ausgeführt wird. Er dient dazu, Netzwerkverbindungen innerhalb desselben Geräts herzustellen, ohne dass Daten über ein externes Netzwerk übertragen werden.\n",
    "\n",
    "Technisch ist „localhost“ fest mit der IPv4-Adresse 127.0.0.1 verknüpft. Diese Adresse ist reserviert und verweist stets auf das lokale Gerät selbst – unabhängig von dessen tatsächlicher Netzwerkverbindung.\n",
    "\n",
    "Ein häufiges Einsatzgebiet von „localhost“ ist die Entwicklung und das Testen von Server-Anwendungen: Entwickler können z. B. einen lokalen Webserver starten und über http://localhost:8000 im Browser auf diesen zugreifen, ohne eine Verbindung ins Internet herzustellen.\n",
    "\n",
    "## Sockets\n",
    "\n",
    "### Definition (Socket)\n",
    "\n",
    "Ein Socket ist ein Endpunkt der bidirektionalen Kommunikation zwischen zwei Programmen, die über ein Netzwerk verbunden sind.\n",
    "\n",
    "### Beispiele\n",
    "\n",
    "- TCP vs. UDP:\n",
    "  \n",
    " - TCP (Transmission Control Protocol): Verbindungsorientiert, zuverlässig (z.B. für Web, E-Mail).\n",
    "\n",
    " - UDP (User Datagram Protocol): Verbindungslos, schneller, aber weniger zuverlässig (z.B. für Videostreaming, Gaming).\n",
    "\n",
    "### Ablauf der Kommunikation über Sockets\n",
    "\n",
    "1.\tSocket erstellen.\n",
    "\n",
    "\t2.\tVerbindung aufbauen (bei TCP).\n",
    "\n",
    "\t3.\tDaten senden/empfangen.\n",
    "\t\n",
    "\t4.\tVerbindung schließen.\n",
    "\n",
    "- Beispiel-Szenario: Ein Client sendet eine Nachricht an einen Server, der Server antwortet.\n",
    "\n",
    "\n",
    "## Beispiel: Client-Server-Kommunikation zwischen zwei python-Programmen\n",
    "\n",
    "Ziel: Ein einfaches Chat-Programm erstellen, bei dem ein Server auf Nachrichten von Clients wartet und antwortet.\n",
    "\n",
    "\n",
    "###\tServer-Programm (Python):\n"
   ]
  },
  {
   "cell_type": "markdown",
   "metadata": {},
   "source": [
    "1. Installiere das Package Flask (falls noch nicht installiert) mit dem Befehl:"
   ]
  },
  {
   "cell_type": "code",
   "execution_count": 1,
   "metadata": {
    "vscode": {
     "languageId": "shellscript"
    }
   },
   "outputs": [
    {
     "name": "stdout",
     "output_type": "stream",
     "text": [
      "Requirement already satisfied: flask in /usr/local/python/3.12.1/lib/python3.12/site-packages (3.1.2)\n",
      "Requirement already satisfied: blinker>=1.9.0 in /usr/local/python/3.12.1/lib/python3.12/site-packages (from flask) (1.9.0)\n",
      "Requirement already satisfied: click>=8.1.3 in /usr/local/python/3.12.1/lib/python3.12/site-packages (from flask) (8.3.0)\n",
      "Requirement already satisfied: itsdangerous>=2.2.0 in /usr/local/python/3.12.1/lib/python3.12/site-packages (from flask) (2.2.0)\n",
      "Requirement already satisfied: jinja2>=3.1.2 in /home/codespace/.local/lib/python3.12/site-packages (from flask) (3.1.6)\n",
      "Requirement already satisfied: markupsafe>=2.1.1 in /home/codespace/.local/lib/python3.12/site-packages (from flask) (3.0.2)\n",
      "Requirement already satisfied: werkzeug>=3.1.0 in /usr/local/python/3.12.1/lib/python3.12/site-packages (from flask) (3.1.3)\n",
      "\n",
      "\u001b[1m[\u001b[0m\u001b[34;49mnotice\u001b[0m\u001b[1;39;49m]\u001b[0m\u001b[39;49m A new release of pip is available: \u001b[0m\u001b[31;49m25.1.1\u001b[0m\u001b[39;49m -> \u001b[0m\u001b[32;49m25.2\u001b[0m\n",
      "\u001b[1m[\u001b[0m\u001b[34;49mnotice\u001b[0m\u001b[1;39;49m]\u001b[0m\u001b[39;49m To update, run: \u001b[0m\u001b[32;49mpython -m pip install --upgrade pip\u001b[0m\n",
      "Note: you may need to restart the kernel to use updated packages.\n"
     ]
    }
   ],
   "source": [
    "pip install flask"
   ]
  },
  {
   "cell_type": "markdown",
   "metadata": {},
   "source": [
    "2. Erstelle das **Python-Modul** namens `server.py`."
   ]
  },
  {
   "cell_type": "code",
   "execution_count": null,
   "metadata": {},
   "outputs": [
    {
     "name": "stdout",
     "output_type": "stream",
     "text": [
      " * Serving Flask app '__main__'\n",
      " * Debug mode: off\n"
     ]
    },
    {
     "name": "stderr",
     "output_type": "stream",
     "text": [
      "WARNING: This is a development server. Do not use it in a production deployment. Use a production WSGI server instead.\n",
      " * Running on all addresses (0.0.0.0)\n",
      " * Running on http://127.0.0.1:12345\n",
      " * Running on http://10.0.12.167:12345\n",
      "Press CTRL+C to quit\n"
     ]
    }
   ],
   "source": [
    "from flask import Flask, request, jsonify\n",
    "\n",
    "app = Flask(__name__)       # __name__ -> Dateiname\n",
    "\n",
    "# Route für die Hauptseite\n",
    "@app.route('/')\n",
    "def home():\n",
    "    return \"Server ist bereit und wartet auf Anfragen.\"\n",
    "\n",
    "# Neue Route wenn \"/profil\" angefügt wird\n",
    "@app.route('/profil')\n",
    "def impressum():\n",
    "    return \"Ich bin Theodor Franz Müller\"\n",
    "\n",
    "# Route zum Empfangen von Nachrichten\n",
    "@app.route('/message', methods=['POST'])\n",
    "def handle_message():\n",
    "    data = request.json\n",
    "    message = data.get('message', '')\n",
    "    print(f\"Empfangen: {message}\")\n",
    "    response_message = f\"Echo: {message}\"\n",
    "    return jsonify({\"response\": response_message})\n",
    "\n",
    "if __name__ == '__main__':\n",
    "    app.run(host='0.0.0.0', port=12345)  # Server starten"
   ]
  },
  {
   "cell_type": "markdown",
   "metadata": {},
   "source": [
    "# Erklärung\n",
    "- `__name__` = Dateiname\n",
    "- Mit `@app.route('/')` richtet man ein, dass der Server bei Aufruf von `127.0.0.1:12345/` die nachfolgende Methode aufruft. Der Rückgabewert der Methode wird an den client gesendet.\n",
    "- Mit `@app.route('/profil')` richtet man eine weitere Route mit einer weiteren Methode ein (`127.0.0.1:12345/profil`)\n",
    "- Mit dem optionalen Parameter `methods`=['POST'] wird festgelegt, dass die Methode zusätzlich Daten erhält. Diese liegen im JSON-Format bereit.\n",
    "- Die Variable `request` ist eine kontext-gebundene Variable. Sie erhält für den aktuellen Aufruf alle Daten, die durch und mit dem Aufruf entstanden sind.\n",
    "- `JSON` ist ein Datenformat zur Übertragung zwischen server und client. Näheres siehe unten. Es ist - in Python - ein Dictionaty."
   ]
  },
  {
   "cell_type": "markdown",
   "metadata": {},
   "source": [
    "3. Starte den Server mit:"
   ]
  },
  {
   "cell_type": "code",
   "execution_count": null,
   "metadata": {
    "vscode": {
     "languageId": "shellscript"
    }
   },
   "outputs": [],
   "source": [
    "python server.py"
   ]
  },
  {
   "cell_type": "markdown",
   "metadata": {},
   "source": [
    "#### Erklärung:\n",
    "\n",
    "-\tDer Server läuft auf localhost und Port 12345.\n",
    "\n",
    "-\tDie Route /message akzeptiert POST-Anfragen mit JSON-Daten.\n",
    "\n",
    "-\tDer Server empfängt eine Nachricht, verarbeitet sie, und sendet eine Antwort im JSON-Format zurück.\n",
    "\n",
    "\n",
    "###\tClient-Programm (Python):\n",
    "\n",
    "Der Client sendet eine Nachricht an den Flask-Server und empfängt die Antwort."
   ]
  },
  {
   "cell_type": "markdown",
   "metadata": {},
   "source": [
    "1. Erstelle das **Python-Modul** namens `client.py`."
   ]
  },
  {
   "cell_type": "code",
   "execution_count": null,
   "metadata": {},
   "outputs": [],
   "source": [
    "import requests\n",
    "\n",
    "# Server-URL\n",
    "server_url = 'http://localhost:12345/message'\n",
    "\n",
    "while True:\n",
    "    # Nachricht vom Benutzer eingeben\n",
    "    message = input(\"Nachricht an den Server: \")\n",
    "    # Nachricht an den Server senden\n",
    "    response = requests.post(server_url, json={\"message\": message})\n",
    "    # Antwort vom Server anzeigen\n",
    "    if response.status_code == 200:\n",
    "        data = response.json()\n",
    "        print(f\"Antwort vom Server: {data['response']}\")\n",
    "    else:\n",
    "        print(\"Fehler bei der Anfrage:\", response.status_code)"
   ]
  },
  {
   "cell_type": "markdown",
   "metadata": {},
   "source": [
    "2. Starte den Client mit:"
   ]
  },
  {
   "cell_type": "code",
   "execution_count": null,
   "metadata": {
    "vscode": {
     "languageId": "shellscript"
    }
   },
   "outputs": [],
   "source": [
    "python client.py"
   ]
  },
  {
   "cell_type": "markdown",
   "metadata": {},
   "source": [
    "####\tErklärung:\n",
    "\n",
    "-\tDer Client sendet eine POST-Anfrage an den Flask-Server mit der eingegebenen Nachricht als JSON-Daten.\n",
    "\n",
    "-\tDer Server antwortet mit einer Nachricht, die der Client anzeigt.\n"
   ]
  }
 ],
 "metadata": {
  "kernelspec": {
   "display_name": "Python 3",
   "language": "python",
   "name": "python3"
  },
  "language_info": {
   "codemirror_mode": {
    "name": "ipython",
    "version": 3
   },
   "file_extension": ".py",
   "mimetype": "text/x-python",
   "name": "python",
   "nbconvert_exporter": "python",
   "pygments_lexer": "ipython3",
   "version": "3.12.1"
  }
 },
 "nbformat": 4,
 "nbformat_minor": 2
}
