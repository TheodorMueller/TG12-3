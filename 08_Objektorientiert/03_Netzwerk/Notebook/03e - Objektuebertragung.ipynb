{
 "cells": [
  {
   "cell_type": "markdown",
   "id": "077dc781",
   "metadata": {},
   "source": [
    "# Objektübertragung zwischen Client und Server"
   ]
  },
  {
   "cell_type": "markdown",
   "id": "9fe948f2",
   "metadata": {},
   "source": [
    "\n",
    "Dieses Notebook zeigt, wie man mit **Pydantic** Objekte **senden und empfangen** kann, z. B. in einer Flask-Client-Server-Anwendung."
   ]
  },
  {
   "cell_type": "markdown",
   "id": "75e2ee4b",
   "metadata": {},
   "source": [
    "## Installation"
   ]
  },
  {
   "cell_type": "code",
   "execution_count": 1,
   "id": "3c57b4c0",
   "metadata": {
    "vscode": {
     "languageId": "shellscript"
    }
   },
   "outputs": [
    {
     "name": "stdout",
     "output_type": "stream",
     "text": [
      "Requirement already satisfied: flask in /usr/local/python/3.12.1/lib/python3.12/site-packages (3.1.2)\n",
      "Requirement already satisfied: pydantic in /usr/local/python/3.12.1/lib/python3.12/site-packages (2.12.3)\n",
      "Requirement already satisfied: requests in /home/codespace/.local/lib/python3.12/site-packages (2.32.4)\n",
      "Requirement already satisfied: blinker>=1.9.0 in /usr/local/python/3.12.1/lib/python3.12/site-packages (from flask) (1.9.0)\n",
      "Requirement already satisfied: click>=8.1.3 in /usr/local/python/3.12.1/lib/python3.12/site-packages (from flask) (8.3.0)\n",
      "Requirement already satisfied: itsdangerous>=2.2.0 in /usr/local/python/3.12.1/lib/python3.12/site-packages (from flask) (2.2.0)\n",
      "Requirement already satisfied: jinja2>=3.1.2 in /home/codespace/.local/lib/python3.12/site-packages (from flask) (3.1.6)\n",
      "Requirement already satisfied: markupsafe>=2.1.1 in /home/codespace/.local/lib/python3.12/site-packages (from flask) (3.0.2)\n",
      "Requirement already satisfied: werkzeug>=3.1.0 in /usr/local/python/3.12.1/lib/python3.12/site-packages (from flask) (3.1.3)\n",
      "Requirement already satisfied: annotated-types>=0.6.0 in /usr/local/python/3.12.1/lib/python3.12/site-packages (from pydantic) (0.7.0)\n",
      "Requirement already satisfied: pydantic-core==2.41.4 in /usr/local/python/3.12.1/lib/python3.12/site-packages (from pydantic) (2.41.4)\n",
      "Requirement already satisfied: typing-extensions>=4.14.1 in /home/codespace/.local/lib/python3.12/site-packages (from pydantic) (4.14.1)\n",
      "Requirement already satisfied: typing-inspection>=0.4.2 in /usr/local/python/3.12.1/lib/python3.12/site-packages (from pydantic) (0.4.2)\n",
      "Requirement already satisfied: charset_normalizer<4,>=2 in /home/codespace/.local/lib/python3.12/site-packages (from requests) (3.4.2)\n",
      "Requirement already satisfied: idna<4,>=2.5 in /home/codespace/.local/lib/python3.12/site-packages (from requests) (3.10)\n",
      "Requirement already satisfied: urllib3<3,>=1.21.1 in /home/codespace/.local/lib/python3.12/site-packages (from requests) (2.5.0)\n",
      "Requirement already satisfied: certifi>=2017.4.17 in /home/codespace/.local/lib/python3.12/site-packages (from requests) (2025.7.9)\n",
      "\n",
      "\u001b[1m[\u001b[0m\u001b[34;49mnotice\u001b[0m\u001b[1;39;49m]\u001b[0m\u001b[39;49m A new release of pip is available: \u001b[0m\u001b[31;49m25.1.1\u001b[0m\u001b[39;49m -> \u001b[0m\u001b[32;49m25.2\u001b[0m\n",
      "\u001b[1m[\u001b[0m\u001b[34;49mnotice\u001b[0m\u001b[1;39;49m]\u001b[0m\u001b[39;49m To update, run: \u001b[0m\u001b[32;49mpython -m pip install --upgrade pip\u001b[0m\n",
      "Note: you may need to restart the kernel to use updated packages.\n"
     ]
    }
   ],
   "source": [
    "pip install flask pydantic requests"
   ]
  },
  {
   "cell_type": "markdown",
   "id": "da6ad9b2",
   "metadata": {},
   "source": [
    "## 1. Grundlagen von Pydantic\n",
    "\n",
    "Pydantic ist ein Python-Modul, das beim Arbeiten mit strukturierten Daten hilft, z. B. beim Austausch zwischen Client und Server.  \n",
    "Es ermöglicht, Klassen mit **Typangaben** zu definieren und überprüft automatisch, ob empfangene Daten diesen Typen entsprechen.  \n",
    "\n",
    "Pydantic kann Objekte einfach in **JSON** umwandeln (`model_dump()`, `model_dump_json()`), was ideal für Webanwendungen ist.  \n",
    "Dadurch entstehen **sichere, saubere und gut strukturierte Datenmodelle**, die Fehler im Datenaustausch deutlich reduzieren."
   ]
  },
  {
   "cell_type": "code",
   "execution_count": null,
   "id": "b1a67391",
   "metadata": {},
   "outputs": [],
   "source": [
    "from pydantic import BaseModel\n",
    "\n",
    "class Student(BaseModel):\n",
    "    name: str\n",
    "    age: int\n",
    "    course: str\n",
    "\n",
    "# Beispielobjekt\n",
    "s = Student(name=\"Anna\", age=21, course=\"Informatik\")\n",
    "print(s)\n",
    "print(s.model_dump())  # Als Dictionary\n"
   ]
  },
  {
   "cell_type": "markdown",
   "id": "f0d3a762",
   "metadata": {},
   "source": [
    "### Erklärung der Klasse `Student`\n",
    "\n",
    "In diesem Code wird eine **Pydantic-Klasse** namens `Student` definiert.  \n",
    "Sie erbt von `BaseModel`, was bedeutet, dass sie automatisch alle Funktionen von **Pydantic** nutzt – z. B. Typprüfung und JSON-Umwandlung.  \n",
    "Die drei Zeilen darin sind **Felddefinitionen** mit Typangaben:  \n",
    "- `name: str` → der Name muss ein **Text (String)** sein  \n",
    "- `age: int` → das Alter muss eine **Ganzzahl (Integer)** sein  \n",
    "- `course: str` → der Kursname ist ebenfalls ein **Text**  \n",
    "\n",
    "Wenn man ein Objekt `Student(name=\"Anna\", age=20, course=\"Informatik\")` erstellt, überprüft Pydantic automatisch, ob die übergebenen Werte zu diesen Typen passen – und gibt sonst eine Fehlermeldung aus."
   ]
  },
  {
   "cell_type": "markdown",
   "id": "652b11f8",
   "metadata": {},
   "source": [
    "### Eine eigene `__init__`-Methode in Pydantic-Klassen\n",
    "\n",
    "Man **kann** in einer Pydantic-Klasse eine eigene `__init__`-Methode anlegen – aber man sollte **sehr vorsichtig** sein.  \n",
    "Pydantic erzeugt bereits automatisch eine `__init__`, die alle Felder prüft, validiert und konvertiert.  \n",
    "Wenn du eine eigene `__init__` schreibst, **überschreibst du diese Logik**, und die automatische **Validierung kann verloren gehen**.  \n",
    "Deshalb ist es besser, zusätzliche Aktionen in einer **`model_post_init()`**-Methode auszuführen – sie wird **nach der automatischen Initialisierung** aufgerufen.  \n",
    "\n",
    "### Klassenattribute in Pydantic\n",
    "\n",
    "In **Pydantic** müssen Klassenattribute mit **`ClassVar`** aus dem Modul `typing` markiert werden,  \n",
    "damit sie **nicht** als normale Datenfelder (Model-Felder) behandelt und validiert werden.  \n",
    "\n",
    "Beispiel:"
   ]
  },
  {
   "cell_type": "code",
   "execution_count": 82,
   "id": "22d00f09",
   "metadata": {},
   "outputs": [
    {
     "name": "stdout",
     "output_type": "stream",
     "text": [
      "Person Anna wurde erstellt!\n",
      "Person Berta wurde erstellt!\n",
      "2\n"
     ]
    }
   ],
   "source": [
    "from typing import ClassVar\n",
    "from pydantic import BaseModel\n",
    "\n",
    "class Person(BaseModel):\n",
    "\n",
    "    name: str\n",
    "    age: int\n",
    "\n",
    "    # Klassenattribut\n",
    "    anzahl: ClassVar[int] = 0\n",
    "\n",
    "    def model_post_init(self, __context):\n",
    "        Person.anzahl += 1\n",
    "        print(f\"Person {self.name} wurde erstellt!\")\n",
    "\n",
    "# korrekt – Validation bleibt erhalten\n",
    "s = Person(name=\"Anna\", age=21)\n",
    "t = Person(name=\"Berta\", age=12)\n",
    "print(Person.anzahl)"
   ]
  },
  {
   "cell_type": "markdown",
   "id": "9f02d995",
   "metadata": {},
   "source": [
    "## 2. Attributwerte überprüfen\n",
    "\n",
    "Mit `Field()` können in **Pydantic** Regeln für einzelne Attribute festgelegt werden.  \n",
    "Dadurch lassen sich **Eingaben validieren** und **Standardwerte setzen**.\n",
    "\n",
    "### Tabelle: Wichtige Optionen von `Field()`\n",
    "\n",
    "| Option | Bedeutung | Beispiel | Wirkung |\n",
    "|:--------|:-----------|:----------|:---------|\n",
    "| `default` | Standardwert für das Feld | `Field(default=0)` | Wenn kein Wert übergeben wird, wird 0 gesetzt |\n",
    "| `ge` | „greater or equal“ – Minimalwert | `Field(..., ge=0)` | Wert muss ≥ 0 sein |\n",
    "| `gt` | „greater than“ – strenger Minimalwert | `Field(..., gt=0)` | Wert muss > 0 sein |\n",
    "| `le` | „less or equal“ – Maximalwert | `Field(..., le=100)` | Wert muss ≤ 100 sein |\n",
    "| `lt` | „less than“ – strenger Maximalwert | `Field(..., lt=100)` | Wert muss < 100 sein |\n",
    "| `min_length` | Minimale Länge von Strings oder Listen | `Field(..., min_length=3)` | Prüft, dass Text oder Liste mindestens 3 Elemente hat |\n",
    "| `max_length` | Maximale Länge von Strings oder Listen | `Field(..., max_length=20)` | Prüft, dass Text oder Liste höchstens 20 Elemente hat |"
   ]
  },
  {
   "cell_type": "markdown",
   "id": "a3dba433",
   "metadata": {},
   "source": [
    "\n",
    "Der folgende Code zeigt, wie man mit **Pydantic** ein Datenmodell erstellt, das **automatisch überprüft**, ob eingegebene Werte **gültig** sind – sowohl beim Erstellen des Objekts als auch bei späteren Änderungen.\n",
    "Das ist z. B. sinnvoll, wenn man Daten (wie PS oder Verbrauch) sicher speichern will, ohne dass ungültige Werte erlaubt sind.\n",
    "\n",
    "Eine vollständige Beschreibung findet ihr unter https://docs.pydantic.dev/latest/concepts/models/\n"
   ]
  },
  {
   "cell_type": "code",
   "execution_count": null,
   "id": "0b131a52",
   "metadata": {},
   "outputs": [
    {
     "name": "stdout",
     "output_type": "stream",
     "text": [
      "1️⃣ Neues Auto: {'ps': 120, 'verbrauch': 6.5}\n",
      "2️⃣ Nach Änderung: {'ps': 90, 'verbrauch': 6.5}\n",
      "Fehler: 1 validation error for Auto\n",
      "ps\n",
      "  Input should be greater than or equal to 0 [type=greater_than_equal, input_value=-50, input_type=int]\n",
      "    For further information visit https://errors.pydantic.dev/2.12/v/greater_than_equal\n",
      "Fehler: 1 validation error for Auto\n",
      "verbrauch\n",
      "  Value error, Verbrauch muss zwischen 0 und 20 Litern liegen [type=value_error, input_value=30, input_type=int]\n",
      "    For further information visit https://errors.pydantic.dev/2.12/v/value_error\n",
      "Fehler beim Erstellen des Objekts:\n",
      "2 validation errors for Auto\n",
      "ps\n",
      "  Input should be greater than or equal to 0 [type=greater_than_equal, input_value=-300, input_type=int]\n",
      "    For further information visit https://errors.pydantic.dev/2.12/v/greater_than_equal\n",
      "verbrauch\n",
      "  Value error, Verbrauch muss zwischen 0 und 20 Litern liegen [type=value_error, input_value=-5, input_type=int]\n",
      "    For further information visit https://errors.pydantic.dev/2.12/v/value_error\n"
     ]
    }
   ],
   "source": [
    "from pydantic import BaseModel, Field, field_validator, ValidationError\n",
    "\n",
    "class Auto(BaseModel):\n",
    "\n",
    "    # Eingabefelder mit Pydantic-Validierung\n",
    "    ps: int = Field(default=75, ge=0, le=500)\n",
    "    verbrauch: float = Field(default=5.0)\n",
    "\n",
    "    # alternativ: Individuelle Prüfung nur für 'verbrauch'\n",
    "    @field_validator(\"verbrauch\")\n",
    "    def check_verbrauch(cls, value):\n",
    "        if not 0 <= value <= 20:\n",
    "            raise ValueError(\"Verbrauch muss zwischen 0 und 20 Litern liegen\")\n",
    "        return value\n",
    "\n",
    "    # Aktiviert Live-Validierung bei späteren Änderungen\n",
    "    model_config = {\"validate_assignment\": True}\n",
    "\n",
    "\n",
    "# Objekt erzeugen (gültige Werte)\n",
    "a = Auto(ps=120, verbrauch=6.5)\n",
    "print(\"1️⃣ Neues Auto:\", a.model_dump())\n",
    "\n",
    "# Änderung eines gültigen Wertes\n",
    "a.ps = 90\n",
    "print(\"2️⃣ Nach Änderung:\", a.model_dump())\n",
    "\n",
    "# Ungültiger Wert für PS\n",
    "try:\n",
    "    a.ps = -50\n",
    "    print(a.model_dump())\n",
    "except ValueError as e:\n",
    "    print(\"Fehler:\", e)\n",
    "\n",
    "# Ungültiger Wert für Verbrauch\n",
    "try:\n",
    "    a.verbrauch = 30\n",
    "    print(a.model_dump())\n",
    "except ValueError as e:\n",
    "    print(\"Fehler:\", e)\n",
    "\n",
    "# Fehler schon beim Erstellen (beide Werte falsch)\n",
    "try:\n",
    "    a = Auto(ps=-300, verbrauch=-5)\n",
    "except ValidationError as e:\n",
    "    print(\"Fehler beim Erstellen des Objekts:\")\n",
    "    print(e)"
   ]
  },
  {
   "cell_type": "markdown",
   "id": "245f5a01",
   "metadata": {},
   "source": [
    "# Aufgabe\n",
    "Vergleiche die Validierung mittels `Field` mit der Validierung über Datenkapselung in Python, die wir bisher genutzt haben. "
   ]
  },
  {
   "cell_type": "markdown",
   "id": "a856f9c4",
   "metadata": {},
   "source": [
    "## 3. Objekt senden (Server → Client)"
   ]
  },
  {
   "cell_type": "code",
   "execution_count": null,
   "id": "9aa77267",
   "metadata": {},
   "outputs": [],
   "source": [
    "\n",
    "from flask import Flask, jsonify\n",
    "\n",
    "app = Flask(__name__)\n",
    "\n",
    "@app.route(\"/student\", methods=[\"GET\"])\n",
    "def send_student():\n",
    "    student = Student(name=\"Tom\", age=20, course=\"IT\")\n",
    "    return jsonify(student.model_dump())\n",
    "\n"
   ]
  },
  {
   "cell_type": "markdown",
   "id": "355c2123",
   "metadata": {},
   "source": [
    "## 4. Objekt empfangen (Client → Server)"
   ]
  },
  {
   "cell_type": "code",
   "execution_count": null,
   "id": "77d57e30",
   "metadata": {},
   "outputs": [],
   "source": [
    "\n",
    "from flask import request\n",
    "\n",
    "@app.route(\"/student\", methods=[\"POST\"])\n",
    "def receive_student():\n",
    "    data = request.get_json()\n",
    "    student = Student(**data)  # JSON → Objekt\n",
    "    print(\"Empfangen:\", student)\n",
    "    return jsonify({\"message\": \"Student empfangen\", \"student\": student.model_dump()})\n"
   ]
  },
  {
   "cell_type": "markdown",
   "id": "7c1479dc",
   "metadata": {},
   "source": [
    "### Bedeutung von `**data`\n",
    "\n",
    "Der Operator `**` entpackt ein **Dictionary** in einzelne **Schlüssel-Wert-Paare** und übergibt sie als **benannte Argumente** an die Funktion oder den Konstruktor.  \n",
    "Im Beispiel `Student(**data)` bedeutet das: wenn `data = {\"name\": \"Anna\", \"age\": 20}`, wird intern aufgerufen wie `Student(name=\"Anna\", age=20)`."
   ]
  },
  {
   "cell_type": "markdown",
   "id": "4101cb96",
   "metadata": {},
   "source": [
    "## 5. Client-Simulation mit requests"
   ]
  },
  {
   "cell_type": "code",
   "execution_count": null,
   "id": "ef2facf3",
   "metadata": {},
   "outputs": [],
   "source": [
    "\n",
    "import requests\n",
    "\n",
    "data = {\"name\": \"Lena\", \"age\": 22, \"course\": \"Medientechnik\"}\n",
    "# response = requests.post(\"http://127.0.0.1:5000/student\", json=data)\n",
    "# print(response.json())\n",
    "print(\"Dies wäre der POST-Aufruf zum Server – bitte lokal testen.\")\n"
   ]
  },
  {
   "cell_type": "markdown",
   "id": "2f9f6ac0",
   "metadata": {},
   "source": [
    "## <font color=red >Übung</font> \n",
    "1. Erstelle das Modul `model`\n",
    "   - Lege dort die Definition deiner Klasse `Spieler` ab.\n",
    "   - Erweitere deine Klasse Spieler um die Validierung per Pydantic.\n",
    "   - Überprüfe deinen Code an Fehlerbeispielen und korrekten Beispielen."
   ]
  }
 ],
 "metadata": {
  "kernelspec": {
   "display_name": "Python 3",
   "language": "python",
   "name": "python3"
  },
  "language_info": {
   "codemirror_mode": {
    "name": "ipython",
    "version": 3
   },
   "file_extension": ".py",
   "mimetype": "text/x-python",
   "name": "python",
   "nbconvert_exporter": "python",
   "pygments_lexer": "ipython3",
   "version": "3.12.1"
  }
 },
 "nbformat": 4,
 "nbformat_minor": 5
}
