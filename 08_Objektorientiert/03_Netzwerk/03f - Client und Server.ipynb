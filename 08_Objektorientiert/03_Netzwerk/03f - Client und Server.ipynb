{
 "cells": [
  {
   "cell_type": "markdown",
   "id": "5dc7b6c4",
   "metadata": {},
   "source": [
    "# Flask & Pydantic: Auto-Server und Client"
   ]
  },
  {
   "cell_type": "markdown",
   "id": "958b5411",
   "metadata": {},
   "source": [
    "\n",
    "Dieses Notebook zeigt, wie ein **Flask-Server** mit **Pydantic** Daten überprüft und wie ein **Python-Client** mit dem Modul `requests` Daten an den Server sendet.\n",
    "\n",
    "Ziel ist es, ein Auto-Objekt zu erstellen und sicherzustellen, dass alle Eingaben gültig sind.\n"
   ]
  },
  {
   "cell_type": "markdown",
   "id": "d00699f8",
   "metadata": {},
   "source": [
    "## Server: `handle_auto()`"
   ]
  },
  {
   "cell_type": "markdown",
   "id": "e476ef44",
   "metadata": {},
   "source": [
    "\n",
    "Der Server empfängt JSON-Daten, erstellt ein `Auto`-Objekt und prüft diese mit **Pydantic**.  \n",
    "Bei gültigen Daten sendet er eine Erfolgsnachricht (HTTP 201), bei fehlerhaften eine Fehlermeldung (HTTP 400).\n"
   ]
  },
  {
   "cell_type": "code",
   "execution_count": null,
   "id": "41a4cd57",
   "metadata": {},
   "outputs": [],
   "source": [
    "\n",
    "from flask import Flask, request, jsonify\n",
    "from pydantic import BaseModel, Field, ValidationError\n",
    "\n",
    "app = Flask(__name__)\n",
    "\n",
    "# Pydantic-Modell\n",
    "class Auto(BaseModel):\n",
    "    marke: str = Field(..., min_length=2, description=\"Name der Automarke\")\n",
    "    ps: int = Field(..., ge=50, le=1000, description=\"Leistung in PS (50–1000)\")\n",
    "    verbrauch: float = Field(..., ge=0, le=20, description=\"Verbrauch in Litern pro 100 km\")\n",
    "\n",
    "    model_config = {\"validate_assignment\": True}\n",
    "\n",
    "@app.route(\"/auto\", methods=[\"POST\"])\n",
    "def handle_auto():\n",
    "    \"\"\"Erstellt ein neues Auto aus JSON-Daten und prüft es mit Pydantic.\"\"\"\n",
    "    try:\n",
    "        data = request.get_json()\n",
    "        auto = Auto(**data)\n",
    "        return jsonify({\n",
    "            \"status\": \"ok\",\n",
    "            \"message\": \"Auto erfolgreich erstellt\",\n",
    "            \"auto\": auto.model_dump()\n",
    "        }), 201\n",
    "    except ValidationError as e:\n",
    "        return jsonify({\n",
    "            \"status\": \"error\",\n",
    "            \"message\": \"Validierung fehlgeschlagen\",\n",
    "            \"details\": e.errors()\n",
    "        }), 400\n",
    "\n",
    "# Hinweis: Zum Starten außerhalb des Notebooks ausführen:\n",
    "# if __name__ == \"__main__\":\n",
    "#     app.run(debug=True)\n"
   ]
  },
  {
   "cell_type": "markdown",
   "id": "d3866db2",
   "metadata": {},
   "source": [
    "## Client: Daten an den Server senden"
   ]
  },
  {
   "cell_type": "markdown",
   "id": "fec3d686",
   "metadata": {},
   "source": [
    "\n",
    "Der Client sendet über `requests.post()` ein JSON-Objekt an den Endpunkt `/auto`.  \n",
    "Der Server validiert die Daten und gibt eine Erfolgsmeldung oder einen Fehler zurück.\n"
   ]
  },
  {
   "cell_type": "code",
   "execution_count": null,
   "id": "3580837f",
   "metadata": {},
   "outputs": [],
   "source": [
    "\n",
    "import requests\n",
    "import json\n",
    "\n",
    "URL = \"http://127.0.0.1:5000/auto\"\n",
    "\n",
    "# 🚗 Beispiel-Daten\n",
    "auto_daten = {\n",
    "    \"marke\": \"Audi\",\n",
    "    \"ps\": 150,\n",
    "    \"verbrauch\": 6.5\n",
    "}\n",
    "\n",
    "response = requests.post(URL, json=auto_daten)\n",
    "print(\"Statuscode:\", response.status_code)\n",
    "\n",
    "if response.status_code == 201:\n",
    "    print(\"✅ Auto erfolgreich erstellt:\")\n",
    "    print(json.dumps(response.json(), indent=4, ensure_ascii=False))\n",
    "else:\n",
    "    print(\"❌ Fehler bei der Erstellung:\")\n",
    "    print(json.dumps(response.json(), indent=4, ensure_ascii=False))\n"
   ]
  },
  {
   "cell_type": "markdown",
   "id": "8f5cff30",
   "metadata": {},
   "source": [
    "## ⚠️ Fehlerbeispiele"
   ]
  },
  {
   "cell_type": "markdown",
   "id": "3aec1930",
   "metadata": {},
   "source": [
    "\n",
    "Hier werden absichtlich falsche Daten geschickt, um zu zeigen, wie Pydantic automatisch eine **ValidationError**-Meldung erzeugt.\n"
   ]
  },
  {
   "cell_type": "code",
   "execution_count": null,
   "id": "ac763c35",
   "metadata": {},
   "outputs": [],
   "source": [
    "\n",
    "# Ungültige Daten (zu hohe PS und negativer Verbrauch)\n",
    "fehler_daten = {\n",
    "    \"marke\": \"VW\",\n",
    "    \"ps\": 2000,\n",
    "    \"verbrauch\": -5\n",
    "}\n",
    "\n",
    "response = requests.post(URL, json=fehler_daten)\n",
    "print(\"Statuscode:\", response.status_code)\n",
    "print(json.dumps(response.json(), indent=4, ensure_ascii=False))\n"
   ]
  },
  {
   "cell_type": "markdown",
   "id": "bf66c0ce",
   "metadata": {},
   "source": [
    "\n",
    "## 🧠 Fazit\n",
    "\n",
    "| Schritt | Aufgabe | Werkzeug |\n",
    "|----------|----------|-----------|\n",
    "| 1 | Server empfängt Daten | `Flask` |\n",
    "| 2 | Validierung der Daten | `Pydantic` |\n",
    "| 3 | Rückgabe bei Erfolg oder Fehler | HTTP 201 / 400 |\n",
    "| 4 | Client sendet Daten | `requests.post()` |\n",
    "| 5 | Ergebnis anzeigen | `response.json()` |\n",
    "\n",
    "➡️ So entsteht ein vollständiger **Client-Server-Datenaustausch** mit **Pydantic-Validierung** am Beispiel eines **Autos**.\n"
   ]
  },
  {
   "cell_type": "markdown",
   "id": "681eee49",
   "metadata": {},
   "source": [
    "## <font color=red >Übung</font> \n",
    "1. Erstelle das Modul `client2`\n",
    "\n",
    "  - Frage die Daten eines Spielers von der Konsole ab und erzeuge daraus ein Spielerobjekt.\n",
    "  - Übertrage das Spielerobjekt als JSON an den Server.\n",
    "  - Gib die Antwort des Servers auf der Konsole aus.\n",
    "\n",
    "2. Erweitere das Modul `server`\n",
    "\n",
    "  - Erstelle eine neue Route `/spieler` zu einer neuen Methode `handle_spieler`.\n",
    "  - Erzeuge aus den empfangenen Daten ein Objekt vom Typ Spieler\n",
    "  - Gib die Daten des Spielers als JSON als Antwort an den Client zurück\n",
    "  "
   ]
  }
 ],
 "metadata": {
  "language_info": {
   "name": "python"
  }
 },
 "nbformat": 4,
 "nbformat_minor": 5
}
