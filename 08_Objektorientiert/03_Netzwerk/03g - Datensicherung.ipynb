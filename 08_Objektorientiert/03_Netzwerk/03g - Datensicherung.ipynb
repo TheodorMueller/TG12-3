{
  "cells": [
    {
      "cell_type": "markdown",
      "id": "2bca5ff8",
      "metadata": {},
      "source": [
        "# Pydantic & JSON: Spieler speichern und laden"
      ]
    },
    {
      "cell_type": "markdown",
      "id": "8af12549",
      "metadata": {},
      "source": [
        "\n",
        "Dieses Notebook zeigt, wie man mit **Pydantic** Objekte in **JSON-Dateien speichert** und später wieder **einliest**, um sie weiterzuverwenden.  "
      ]
    },
    {
      "cell_type": "markdown",
      "id": "84aad401",
      "metadata": {},
      "source": [
        "## Schritt 1: Spieler-Klasse mit Pydantic definieren"
      ]
    },
    {
      "cell_type": "code",
      "execution_count": 1,
      "id": "fe8b6546",
      "metadata": {},
      "outputs": [
        {
          "data": {
            "text/plain": [
              "[Spieler(name='Max', staerke=85, torschuss=9),\n",
              " Spieler(name='Anna', staerke=92, torschuss=8)]"
            ]
          },
          "execution_count": 1,
          "metadata": {},
          "output_type": "execute_result"
        }
      ],
      "source": [
        "\n",
        "from pydantic import BaseModel, Field\n",
        "\n",
        "class Spieler(BaseModel):\n",
        "    name: str = Field(..., min_length=2)\n",
        "    staerke: int = Field(..., ge=0, le=100)\n",
        "    torschuss: int = Field(..., ge=0, le=10)\n",
        "\n",
        "# Beispiel-Objekte\n",
        "spieler1 = Spieler(name=\"Max\", staerke=85, torschuss=9)\n",
        "spieler2 = Spieler(name=\"Anna\", staerke=92, torschuss=8)\n",
        "\n",
        "spieler_liste = [spieler1, spieler2]\n",
        "spieler_liste\n"
      ]
    },
    {
      "cell_type": "markdown",
      "id": "a2745f80",
      "metadata": {},
      "source": [
        "## Schritt 2: Spieler in einer Datei speichern"
      ]
    },
    {
      "cell_type": "code",
      "execution_count": 2,
      "id": "f64c0bee",
      "metadata": {},
      "outputs": [
        {
          "name": "stdout",
          "output_type": "stream",
          "text": [
            "✅ Spieler wurden in 'spieler.json' gespeichert.\n"
          ]
        }
      ],
      "source": [
        "\n",
        "import json\n",
        "\n",
        "with open(\"spieler.json\", \"w\", encoding=\"utf-8\") as f:\n",
        "    json.dump([s.model_dump() for s in spieler_liste], f, ensure_ascii=False, indent=4)\n",
        "\n",
        "print(\"✅ Spieler wurden in 'spieler.json' gespeichert.\")\n"
      ]
    },
    {
      "cell_type": "markdown",
      "id": "eb8d579a",
      "metadata": {},
      "source": [
        "## Inhalt der gespeicherten Datei"
      ]
    },
    {
      "cell_type": "code",
      "execution_count": 3,
      "id": "59493458",
      "metadata": {},
      "outputs": [
        {
          "name": "stdout",
          "output_type": "stream",
          "text": [
            "[\n",
            "    {\n",
            "        \"name\": \"Max\",\n",
            "        \"staerke\": 85,\n",
            "        \"torschuss\": 9\n",
            "    },\n",
            "    {\n",
            "        \"name\": \"Anna\",\n",
            "        \"staerke\": 92,\n",
            "        \"torschuss\": 8\n",
            "    }\n",
            "]\n"
          ]
        }
      ],
      "source": [
        "\n",
        "with open(\"spieler.json\", \"r\", encoding=\"utf-8\") as f:\n",
        "    print(f.read())\n"
      ]
    },
    {
      "cell_type": "markdown",
      "id": "ab807e4d",
      "metadata": {},
      "source": [
        "## Schritt 3: Spieler aus der Datei wieder einlesen (mit Dateiprüfung)"
      ]
    },
    {
      "cell_type": "code",
      "execution_count": 4,
      "id": "fad2ced1",
      "metadata": {},
      "outputs": [
        {
          "name": "stdout",
          "output_type": "stream",
          "text": [
            "📂 Geladene Spieler:\n",
            "name='Max' staerke=85 torschuss=9\n",
            "name='Anna' staerke=92 torschuss=8\n"
          ]
        }
      ],
      "source": [
        "\n",
        "import os\n",
        "\n",
        "dateiname = \"spieler.json\"\n",
        "\n",
        "if os.path.exists(dateiname):\n",
        "    with open(dateiname, \"r\", encoding=\"utf-8\") as f:\n",
        "        daten = json.load(f)\n",
        "    geladene_spieler = [Spieler(**s) for s in daten]\n",
        "    print(\"📂 Geladene Spieler:\")\n",
        "    for s in geladene_spieler:\n",
        "        print(s)\n",
        "else:\n",
        "    print(f\"⚠️ Datei '{dateiname}' wurde nicht gefunden.\")\n",
        "    print(\"Es wird eine leere Spielerliste erstellt.\")\n",
        "    geladene_spieler = []\n"
      ]
    },
    {
      "cell_type": "markdown",
      "id": "45e06888",
      "metadata": {},
      "source": [
        "\n",
        "## Fazit\n",
        "\n",
        "| Ziel | Methode |\n",
        "|------|----------|\n",
        "| Objekt speichern | `model_dump()` + `json.dump()` |\n",
        "| Objekt laden | `json.load()` + `Spieler(**daten)` |\n",
        "| Datei prüfen | `os.path.exists()` |\n",
        "| Direkt JSON-Text | `model_dump_json()` |\n",
        "| Vorteil | Keine Abstürze bei fehlender Datei und automatische Validierung |\n",
        "\n",
        "➡️ Mit Pydantic lassen sich Daten **einfach speichern, prüfen und wiederverwenden** – ideal für Client-Server-Projekte!\n"
      ]
    },
    {
      "cell_type": "markdown",
      "id": "18af1aa2",
      "metadata": {},
      "source": [
        "## <font color=red >Übung</font>\n",
        "Erweitere den Server: der Server soll die Daten sicher speichern und bei Neustart wieder zur Verfügung haben.\n",
        "Beschreibe deine Lösungsstrategie und setze diese um."
      ]
    }
  ],
  "metadata": {
    "kernel_info": {
      "name": "python"
    },
    "kernelspec": {
      "display_name": "Python 3",
      "language": "python",
      "name": "python3"
    },
    "language_info": {
      "codemirror_mode": {
        "name": "ipython",
        "version": 3
      },
      "file_extension": ".py",
      "mimetype": "text/x-python",
      "name": "python",
      "nbconvert_exporter": "python",
      "pygments_lexer": "ipython3",
      "version": "3.12.1"
    },
    "nteract": {
      "version": "nteract-front-end@1.0.0"
    }
  },
  "nbformat": 4,
  "nbformat_minor": 5
}
